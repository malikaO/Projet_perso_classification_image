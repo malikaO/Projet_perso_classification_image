{
 "cells": [
  {
   "cell_type": "markdown",
   "metadata": {},
   "source": [
    "# Importation  des données MINST et des bibliothéques"
   ]
  },
  {
   "cell_type": "code",
   "execution_count": 1,
   "metadata": {},
   "outputs": [
    {
     "name": "stderr",
     "output_type": "stream",
     "text": [
      "C:\\Users\\ouizb\\anaconda3\\lib\\site-packages\\tensorboard\\compat\\tensorflow_stub\\dtypes.py:541: FutureWarning: Passing (type, 1) or '1type' as a synonym of type is deprecated; in a future version of numpy, it will be understood as (type, (1,)) / '(1,)type'.\n",
      "  _np_qint8 = np.dtype([(\"qint8\", np.int8, 1)])\n",
      "C:\\Users\\ouizb\\anaconda3\\lib\\site-packages\\tensorboard\\compat\\tensorflow_stub\\dtypes.py:542: FutureWarning: Passing (type, 1) or '1type' as a synonym of type is deprecated; in a future version of numpy, it will be understood as (type, (1,)) / '(1,)type'.\n",
      "  _np_quint8 = np.dtype([(\"quint8\", np.uint8, 1)])\n",
      "C:\\Users\\ouizb\\anaconda3\\lib\\site-packages\\tensorboard\\compat\\tensorflow_stub\\dtypes.py:543: FutureWarning: Passing (type, 1) or '1type' as a synonym of type is deprecated; in a future version of numpy, it will be understood as (type, (1,)) / '(1,)type'.\n",
      "  _np_qint16 = np.dtype([(\"qint16\", np.int16, 1)])\n",
      "C:\\Users\\ouizb\\anaconda3\\lib\\site-packages\\tensorboard\\compat\\tensorflow_stub\\dtypes.py:544: FutureWarning: Passing (type, 1) or '1type' as a synonym of type is deprecated; in a future version of numpy, it will be understood as (type, (1,)) / '(1,)type'.\n",
      "  _np_quint16 = np.dtype([(\"quint16\", np.uint16, 1)])\n",
      "C:\\Users\\ouizb\\anaconda3\\lib\\site-packages\\tensorboard\\compat\\tensorflow_stub\\dtypes.py:545: FutureWarning: Passing (type, 1) or '1type' as a synonym of type is deprecated; in a future version of numpy, it will be understood as (type, (1,)) / '(1,)type'.\n",
      "  _np_qint32 = np.dtype([(\"qint32\", np.int32, 1)])\n",
      "C:\\Users\\ouizb\\anaconda3\\lib\\site-packages\\tensorboard\\compat\\tensorflow_stub\\dtypes.py:550: FutureWarning: Passing (type, 1) or '1type' as a synonym of type is deprecated; in a future version of numpy, it will be understood as (type, (1,)) / '(1,)type'.\n",
      "  np_resource = np.dtype([(\"resource\", np.ubyte, 1)])\n"
     ]
    }
   ],
   "source": [
    "# Importation du dataset MINST depuis Keras\n",
    "from keras.datasets import mnist\n",
    "(x_train, y_train), (x_test, y_test) = mnist.load_data()"
   ]
  },
  {
   "cell_type": "markdown",
   "metadata": {},
   "source": [
    "Le dataste comporte des nombres de 0 à 9 de 28 sur 28 pixels. Les images sont monochromes."
   ]
  },
  {
   "cell_type": "code",
   "execution_count": 2,
   "metadata": {},
   "outputs": [
    {
     "name": "stdout",
     "output_type": "stream",
     "text": [
      "<class 'numpy.ndarray'>\n",
      "<class 'numpy.ndarray'>\n",
      "<class 'numpy.ndarray'>\n",
      "<class 'numpy.ndarray'>\n"
     ]
    }
   ],
   "source": [
    "# vérifions le type : ceux sont de numpy array\n",
    "print(type(x_train))\n",
    "print(type(x_test))\n",
    "print(type(y_train))\n",
    "print(type(y_test))"
   ]
  },
  {
   "cell_type": "code",
   "execution_count": 3,
   "metadata": {},
   "outputs": [
    {
     "name": "stdout",
     "output_type": "stream",
     "text": [
      "(60000, 28, 28)\n",
      "(10000, 28, 28)\n",
      "x_train comporte 60000 images\n",
      "x_test comporte  10000 images\n"
     ]
    }
   ],
   "source": [
    "print(x_train.shape)\n",
    "print(x_test.shape)\n",
    "print(f'x_train comporte {x_train.shape[0]} images')\n",
    "print(f'x_test comporte  {x_test.shape[0]} images')"
   ]
  },
  {
   "cell_type": "code",
   "execution_count": 4,
   "metadata": {},
   "outputs": [
    {
     "data": {
      "text/plain": [
       "<Figure size 432x288 with 0 Axes>"
      ]
     },
     "metadata": {},
     "output_type": "display_data"
    },
    {
     "data": {
      "image/png": "[encoded data removed]",
      "text/plain": [
       "<Figure size 720x648 with 9 Axes>"
      ]
     },
     "metadata": {
      "needs_background": "light"
     },
     "output_type": "display_data"
    }
   ],
   "source": [
    "import matplotlib.pyplot as plt\n",
    "plt.gray()\n",
    "plt.figure(figsize = (10,9))\n",
    "for i in range(9):\n",
    "    plt.subplot(3,3,i+1)\n",
    "    plt.imshow(x_train[i])"
   ]
  },
  {
   "cell_type": "code",
   "execution_count": 5,
   "metadata": {},
   "outputs": [
    {
     "name": "stdout",
     "output_type": "stream",
     "text": [
      "5\n",
      "0\n",
      "4\n",
      "1\n",
      "9\n"
     ]
    }
   ],
   "source": [
    "# Exemple d'impression dans y_train\n",
    "for i in range(5):\n",
    "    print(y_train[i])"
   ]
  },
  {
   "cell_type": "markdown",
   "metadata": {},
   "source": [
    "## Prétraitement des données"
   ]
  },
  {
   "cell_type": "code",
   "execution_count": 6,
   "metadata": {},
   "outputs": [
    {
     "name": "stdout",
     "output_type": "stream",
     "text": [
      "0\n",
      "255\n"
     ]
    }
   ],
   "source": [
    "# Vérification des valeurs minimale et maximale de x_train\n",
    "print(x_train.min())\n",
    "print(x_train.max())"
   ]
  },
  {
   "cell_type": "code",
   "execution_count": 7,
   "metadata": {},
   "outputs": [],
   "source": [
    "# On s'assurer que les valeurs sont flottantes afin que nous puissions obtenir des points décimaux après la division\n",
    "x_train = x_train.astype('float')\n",
    "x_test = x_test.astype('float')"
   ]
  },
  {
   "cell_type": "code",
   "execution_count": 8,
   "metadata": {},
   "outputs": [],
   "source": [
    "# Normaliser les codes RVB en les divisant par la valeur RVB maximale.\n",
    "x_train = x_train/255.0\n",
    "x_test = x_test/255.0"
   ]
  },
  {
   "cell_type": "code",
   "execution_count": 9,
   "metadata": {},
   "outputs": [
    {
     "name": "stdout",
     "output_type": "stream",
     "text": [
      "0.0\n",
      "1.0\n"
     ]
    }
   ],
   "source": [
    "# Vérification des valeurs minimale et maximale de x_train\n",
    "print(x_train.min())\n",
    "print(x_train.max())"
   ]
  },
  {
   "cell_type": "markdown",
   "metadata": {},
   "source": [
    "Les données d'entrée doivent être converties du format tridimensionnel au format bidimensionnel pour être introduites dans l'algorithme de clustering K-Means. Par conséquent, les données d'entrée doivent être remodelées."
   ]
  },
  {
   "cell_type": "code",
   "execution_count": 10,
   "metadata": {},
   "outputs": [],
   "source": [
    "# Redimmension des données d'entrée\n",
    "X_train = x_train.reshape(len(x_train),-1)\n",
    "X_test = x_test.reshape(len(x_test),-1)"
   ]
  },
  {
   "cell_type": "code",
   "execution_count": 11,
   "metadata": {},
   "outputs": [
    {
     "name": "stdout",
     "output_type": "stream",
     "text": [
      "(60000, 784)\n",
      "(10000, 784)\n"
     ]
    }
   ],
   "source": [
    "# Vérification des dimensions\n",
    "print(X_train.shape)\n",
    "print(X_test.shape)"
   ]
  },
  {
   "cell_type": "markdown",
   "metadata": {},
   "source": [
    "Maintenant que le prétraitement des données est terminé, nous passons à la construction du modèle avec Mini Batch K-Means."
   ]
  },
  {
   "cell_type": "markdown",
   "metadata": {},
   "source": [
    "## Construction du modèle Mini Batch K-Means"
   ]
  },
  {
   "cell_type": "markdown",
   "metadata": {},
   "source": [
    "Mini Batch K-Means fonctionne de manière similaire à l'algorithme K-Means. La différence est que dans le Mini Batch K-Means, l'étape la plus coûteuse en calcul est effectuée uniquement sur un échantillon aléatoire d'observations par opposition à toutes les observations. Cette approche peut réduire considérablement le temps nécessaire à l'algorithme pour trouver la convergence avec seulement un faible coût en qualité."
   ]
  },
  {
   "cell_type": "code",
   "execution_count": 12,
   "metadata": {},
   "outputs": [
    {
     "data": {
      "text/plain": [
       "MiniBatchKMeans(n_clusters=10)"
      ]
     },
     "execution_count": 12,
     "metadata": {},
     "output_type": "execute_result"
    }
   ],
   "source": [
    "from sklearn.cluster import MiniBatchKMeans\n",
    "import numpy as np\n",
    "total_clusters = len(np.unique(y_test))\n",
    "# Initialisation du modèle K-means\n",
    "kmeans = MiniBatchKMeans(n_clusters = total_clusters)\n",
    "kmeans.fit(X_train)"
   ]
  },
  {
   "cell_type": "code",
   "execution_count": 13,
   "metadata": {},
   "outputs": [
    {
     "data": {
      "text/plain": [
       "array([4, 7, 6, ..., 4, 2, 3])"
      ]
     },
     "execution_count": 13,
     "metadata": {},
     "output_type": "execute_result"
    }
   ],
   "source": [
    "# Labels\n",
    "kmeans.labels_"
   ]
  },
  {
   "cell_type": "code",
   "execution_count": 14,
   "metadata": {},
   "outputs": [
    {
     "data": {
      "text/plain": [
       "array([[0., 0., 0., ..., 0., 0., 0.],\n",
       "       [0., 0., 0., ..., 0., 0., 0.],\n",
       "       [0., 0., 0., ..., 0., 0., 0.],\n",
       "       ...,\n",
       "       [0., 0., 0., ..., 0., 0., 0.],\n",
       "       [0., 0., 0., ..., 0., 0., 0.],\n",
       "       [0., 0., 0., ..., 0., 0., 0.]])"
      ]
     },
     "execution_count": 14,
     "metadata": {},
     "output_type": "execute_result"
    }
   ],
   "source": [
    "# centroides\n",
    "kmeans.cluster_centers_"
   ]
  },
  {
   "cell_type": "markdown",
   "metadata": {},
   "source": [
    "Les images sont classées en groupes en fonction de la similitude des valeurs de pixels. Chaque image se voit attribuer une valeur d'étiquette de cluster donnée par kmeans.labels_. Mais kmeans.labels_ ne désigne que le cluster auquel appartient l'image. Il ne désigne pas le nombre affiché dans l'image.\n",
    "\n",
    "On va créer une fonction qui associe  le label le plus probable à chaque cluster dans le modèle KMeans \n",
    "qui renvoie un  dictionnaire des clusters assignés à chaque label."
   ]
  },
  {
   "cell_type": "code",
   "execution_count": 15,
   "metadata": {},
   "outputs": [],
   "source": [
    "def retrieve_info(cluster_labels,y_train):\n",
    "    reference_labels = {}\n",
    "    for i in range(len(np.unique(kmeans.labels_))):\n",
    "        index = np.where(cluster_labels == i,1,0)\n",
    "        num = np.bincount(y_train[index==1]).argmax()\n",
    "        reference_labels[i] = num\n",
    "    return reference_labels"
   ]
  },
  {
   "cell_type": "code",
   "execution_count": 16,
   "metadata": {},
   "outputs": [],
   "source": [
    "reference_labels = retrieve_info(kmeans.labels_,y_train)"
   ]
  },
  {
   "cell_type": "code",
   "execution_count": 17,
   "metadata": {},
   "outputs": [
    {
     "name": "stdout",
     "output_type": "stream",
     "text": [
      "{0: 1, 1: 6, 2: 0, 3: 8, 4: 3, 5: 9, 6: 4, 7: 0, 8: 2, 9: 7}\n"
     ]
    }
   ],
   "source": [
    "print(reference_labels)"
   ]
  },
  {
   "cell_type": "markdown",
   "metadata": {},
   "source": [
    "Regardons reference_label: c'est à dire au cluster 0  on a le groupe d'image 1 , au cluster 1 on a le groupe d'image 6, au cluster 2 on a le groupe d'image 0 etc...). \n",
    "\n",
    "Avec la fonction 'retrieve_info' nous allons imprimer le 'y_pred' prédit et la comparer l'étiquette réelle pour les 20 premiers exemples"
   ]
  },
  {
   "cell_type": "code",
   "execution_count": 21,
   "metadata": {},
   "outputs": [],
   "source": [
    "y_pred = np.random.rand(len(kmeans.labels_))\n",
    "for i in range(len(kmeans.labels_)):\n",
    "    y_pred[i] = reference_labels[kmeans.labels_[i]]"
   ]
  },
  {
   "cell_type": "code",
   "execution_count": 22,
   "metadata": {},
   "outputs": [
    {
     "name": "stdout",
     "output_type": "stream",
     "text": [
      "Valeurs prédites:\n",
      "[3 0 4 8 9 2 1 3 1 9 3 8 3 6 1 7 2 8 1 8]\n",
      "============================================================\n",
      "Valeurs réelles:\n",
      "[5 0 4 1 9 2 1 3 1 4 3 5 3 6 1 7 2 8 6 9]\n"
     ]
    }
   ],
   "source": [
    "# Comparaison des valeurs prédites et des valeurs réelles\n",
    "print(\"Valeurs prédites:\")\n",
    "print(y_pred[:20].astype('int'))\n",
    "print(\"============================================================\")\n",
    "print(\"Valeurs réelles:\")\n",
    "print(y_train[:20])"
   ]
  },
  {
   "cell_type": "markdown",
   "metadata": {},
   "source": [
    "## Accuracy score"
   ]
  },
  {
   "cell_type": "code",
   "execution_count": 23,
   "metadata": {},
   "outputs": [
    {
     "name": "stdout",
     "output_type": "stream",
     "text": [
      "L'accuracy score du train set est de: 0.56505\n"
     ]
    }
   ],
   "source": [
    "# accuracy score\n",
    "from sklearn.metrics import accuracy_score\n",
    "print(f'L\\'accuracy score du train set est de: {accuracy_score(y_pred,y_train)}')"
   ]
  },
  {
   "cell_type": "code",
   "execution_count": 24,
   "metadata": {},
   "outputs": [
    {
     "data": {
      "text/plain": [
       "Text(0.5, 257.44, 'Predicted label')"
      ]
     },
     "execution_count": 24,
     "metadata": {},
     "output_type": "execute_result"
    },
    {
     "data": {
      "image/png": "[encoded data removed]",
      "text/plain": [
       "<Figure size 432x288 with 2 Axes>"
      ]
     },
     "metadata": {
      "needs_background": "light"
     },
     "output_type": "display_data"
    }
   ],
   "source": [
    "# matrice de confusion\n",
    "from sklearn.metrics import confusion_matrix\n",
    "import seaborn as sns\n",
    "import pandas as pd\n",
    "conf_matrix = confusion_matrix(y_train, y_pred)\n",
    "\n",
    "# plottage \n",
    "\n",
    "class_names=[0,1, 2, 3, 4, 5, 6, 7, 8, 9] # name  of classes\n",
    "fig, ax = plt.subplots()\n",
    "tick_marks = np.arange(len(class_names))\n",
    "plt.xticks(tick_marks, class_names)\n",
    "plt.yticks(tick_marks, class_names)\n",
    "\n",
    "sns.heatmap(pd.DataFrame(conf_matrix), annot=True, cmap=\"YlGnBu\" ,fmt='g')\n",
    "ax.xaxis.set_label_position(\"top\")\n",
    "plt.tight_layout()\n",
    "plt.title('Confusion matrix', y=1.1)\n",
    "plt.ylabel('Actual label')\n",
    "plt.xlabel('Predicted label')"
   ]
  },
  {
   "cell_type": "markdown",
   "metadata": {},
   "source": [
    "Le groupe des 5 il sait pas les classer, il fait beaucoup de confusion pour le zéro le 3 , le 4 le 8 et le 9."
   ]
  },
  {
   "cell_type": "markdown",
   "metadata": {},
   "source": [
    "## Optimisation de l'algorithme"
   ]
  },
  {
   "cell_type": "code",
   "execution_count": 25,
   "metadata": {},
   "outputs": [],
   "source": [
    "def calculate_metrics(model,output):\n",
    "    print(f'Le nombre de cluster est de {model.n_clusters}')\n",
    "    print(f'L\\'inertie est de: {model.inertia_}')\n",
    "    print(f'L\\'homogeneîté est de: {metrics.homogeneity_score(output,model.labels_)}')"
   ]
  },
  {
   "cell_type": "code",
   "execution_count": 26,
   "metadata": {},
   "outputs": [
    {
     "name": "stdout",
     "output_type": "stream",
     "text": [
      "Le nombre de cluster est de 256\n",
      "L'inertie est de: 1513644.9067165356\n",
      "L'homogeneîté est de: 0.8415908392951941\n",
      "L'accuracy est de: 0.8962333333333333\n"
     ]
    }
   ],
   "source": [
    "from sklearn import metrics\n",
    "cluster_number = [10,16,36,64,144,256]\n",
    "for i in cluster_number:\n",
    "    total_clusters = len(np.unique(y_test))\n",
    "\n",
    "kmeans = MiniBatchKMeans(n_clusters = i)\n",
    "kmeans.fit(X_train) \n",
    "calculate_metrics(kmeans,y_train)\n",
    "# Calcule des  reference_labels\n",
    "reference_labels = retrieve_info(kmeans.labels_,y_train)\n",
    "# y_pred la prediction des label\n",
    "y_pred = np.random.rand(len(kmeans.labels_))\n",
    "for i in range(len(kmeans.labels_)):\n",
    "    y_pred[i] = reference_labels[kmeans.labels_[i]]\n",
    "    \n",
    "print(f'L\\'accuracy est de: {accuracy_score(y_pred,y_train)}')\n"
   ]
  },
  {
   "cell_type": "markdown",
   "metadata": {},
   "source": [
    "J'ai fait des testes allant jusqu'a 640  cluster, j'obtiens 91% d'accuracy y a pas énormement de différence pour un si grand nombre de cluster je pense pas que se soit judicieux. Le fait d'avoir 256 clusters pour 10 nombre vient du faite que se soit écrit à la main et qu'il y'ai plusieurs maniéres d'écrire une nombre. Chacun son écriture !!!!\n",
    "\n",
    "**Résultat obtenu pour 640 clusters**:\n",
    "\n",
    "- Le nombre de cluster est de 640\n",
    "- L'inertie est de: 1352653.5\n",
    "- L'homogeneîté est de: 0.8793984040204451\n",
    "- L'accuracy est de: 0.9177833333333333\n",
    "\n",
    "La précision est de 89% pour «nombre de clusters» = 256. Par conséquent, nous exécutons le modèle sur l'ensemble de test pour le nombre de clusters = 256."
   ]
  },
  {
   "cell_type": "code",
   "execution_count": 27,
   "metadata": {},
   "outputs": [
    {
     "name": "stdout",
     "output_type": "stream",
     "text": [
      "Le nombre de cluster est de 256\n",
      "L'inertie est de: 250133.92419261008\n",
      "L'homogeneîté est de: 0.8443541093824921\n",
      "L'accuracy est de: 0.8814\n"
     ]
    }
   ],
   "source": [
    "# Testdu modèle sur le Test set\n",
    "kmeans = MiniBatchKMeans(n_clusters = 256)\n",
    "kmeans.fit(X_test)\n",
    "# Calcule des metriques\n",
    "calculate_metrics(kmeans,y_test)\n",
    "# Calcule des reference_labels\n",
    "reference_labels = retrieve_info(kmeans.labels_,y_test)\n",
    "# y_pred nos predictions\n",
    "y_pred = np.random.rand(len(kmeans.labels_))\n",
    "for i in range(len(kmeans.labels_)):\n",
    "    y_pred[i] = reference_labels[kmeans.labels_[i]]\n",
    "    \n",
    "    \n",
    "print(f'L\\'accuracy est de: {accuracy_score(y_pred,y_test)}')"
   ]
  },
  {
   "cell_type": "code",
   "execution_count": 29,
   "metadata": {},
   "outputs": [
    {
     "data": {
      "text/plain": [
       "Text(0.5, 257.44, 'Predicted label')"
      ]
     },
     "execution_count": 29,
     "metadata": {},
     "output_type": "execute_result"
    },
    {
     "data": {
      "image/png": "[encoded data removed]",
      "text/plain": [
       "<Figure size 432x288 with 2 Axes>"
      ]
     },
     "metadata": {
      "needs_background": "light"
     },
     "output_type": "display_data"
    }
   ],
   "source": [
    "from sklearn.metrics import confusion_matrix\n",
    "import seaborn as sns\n",
    "import pandas as pd\n",
    "conf_matrix2 = confusion_matrix(y_test, y_pred)\n",
    "\n",
    "# plottage \n",
    "\n",
    "class_names=[0,1, 2, 3, 4, 5, 6, 7, 8, 9] # name  of classes\n",
    "fig, ax = plt.subplots()\n",
    "tick_marks = np.arange(len(class_names))\n",
    "plt.xticks(tick_marks, class_names)\n",
    "plt.yticks(tick_marks, class_names)\n",
    "\n",
    "sns.heatmap(pd.DataFrame(conf_matrix2), annot=True, cmap=\"YlGnBu\" ,fmt='g')\n",
    "ax.xaxis.set_label_position(\"top\")\n",
    "plt.tight_layout()\n",
    "plt.title('Confusion matrix', y=1.1)\n",
    "plt.ylabel('Actual label')\n",
    "plt.xlabel('Predicted label')"
   ]
  },
  {
   "cell_type": "markdown",
   "metadata": {},
   "source": [
    "On voit une nette amélioration. Il y a encore des erreurs de classification mais beaucoup moins. Il faudrait pouvoir améliorer les prédictions."
   ]
  },
  {
   "cell_type": "markdown",
   "metadata": {},
   "source": [
    "## Nouvelles prédictions"
   ]
  },
  {
   "cell_type": "code",
   "execution_count": 30,
   "metadata": {},
   "outputs": [],
   "source": [
    "# RGB image is converted to Monochrome image\n",
    "from skimage import color\n",
    "from skimage import io\n",
    "image2 = color.rgb2gray(io.imread(\"Capture d’écran (1143).png\"))"
   ]
  },
  {
   "cell_type": "code",
   "execution_count": 31,
   "metadata": {
    "scrolled": false
   },
   "outputs": [
    {
     "data": {
      "image/png": "[encoded data removed]",
      "text/plain": [
       "<Figure size 432x288 with 1 Axes>"
      ]
     },
     "metadata": {
      "needs_background": "light"
     },
     "output_type": "display_data"
    }
   ],
   "source": [
    "plt.imshow(image2)\n",
    "\n",
    "\n",
    "image2.shape\n",
    "\n",
    "\n",
    "from skimage.transform import resize\n",
    "size = (28, 28)\n",
    "fit_and_resized_image = resize(image2,size,anti_aliasing=True)"
   ]
  },
  {
   "cell_type": "code",
   "execution_count": 32,
   "metadata": {},
   "outputs": [
    {
     "data": {
      "text/plain": [
       "<matplotlib.image.AxesImage at 0x1f3600b8308>"
      ]
     },
     "execution_count": 32,
     "metadata": {},
     "output_type": "execute_result"
    },
    {
     "data": {
      "image/png": "[encoded data removed]",
      "text/plain": [
       "<Figure size 432x288 with 1 Axes>"
      ]
     },
     "metadata": {
      "needs_background": "light"
     },
     "output_type": "display_data"
    }
   ],
   "source": [
    "plt.imshow(fit_and_resized_image)"
   ]
  },
  {
   "cell_type": "code",
   "execution_count": 33,
   "metadata": {},
   "outputs": [
    {
     "data": {
      "text/plain": [
       "(28, 28)"
      ]
     },
     "execution_count": 33,
     "metadata": {},
     "output_type": "execute_result"
    }
   ],
   "source": [
    "fit_and_resized_image.shape"
   ]
  },
  {
   "cell_type": "code",
   "execution_count": 34,
   "metadata": {},
   "outputs": [
    {
     "data": {
      "text/plain": [
       "(1, 784)"
      ]
     },
     "execution_count": 34,
     "metadata": {},
     "output_type": "execute_result"
    }
   ],
   "source": [
    "fit_and_resized_image = fit_and_resized_image.reshape(1, 28*28)\n",
    "fit_and_resized_image.shape\n"
   ]
  },
  {
   "cell_type": "code",
   "execution_count": 35,
   "metadata": {},
   "outputs": [],
   "source": [
    "predicted_cluster = kmeans.predict(fit_and_resized_image)"
   ]
  },
  {
   "cell_type": "code",
   "execution_count": 36,
   "metadata": {},
   "outputs": [
    {
     "name": "stderr",
     "output_type": "stream",
     "text": [
      "C:\\Users\\ouizb\\anaconda3\\lib\\site-packages\\ipykernel_launcher.py:1: FutureWarning: Using a non-tuple sequence for multidimensional indexing is deprecated; use `arr[tuple(seq)]` instead of `arr[seq]`. In the future this will be interpreted as an array index, `arr[np.array(seq)]`, which will result either in an error or a different result.\n",
      "  \"\"\"Entry point for launching an IPython kernel.\n"
     ]
    },
    {
     "data": {
      "text/plain": [
       "array([8.])"
      ]
     },
     "execution_count": 36,
     "metadata": {},
     "output_type": "execute_result"
    }
   ],
   "source": [
    "y_pred[[predicted_cluster]]"
   ]
  },
  {
   "cell_type": "markdown",
   "metadata": {},
   "source": [
    "Il prédit l'image comme étant un 8. Je suis un peu vexée mon 1 n'est pas si moche du moins il est loin de ressembler à un 8. Mon modèle doit encore être amelioré faute de temps je dois avancée."
   ]
  }
 ],
 "metadata": {
  "kernelspec": {
   "display_name": "Python 3",
   "language": "python",
   "name": "python3"
  },
  "language_info": {
   "codemirror_mode": {
    "name": "ipython",
    "version": 3
   },
   "file_extension": ".py",
   "mimetype": "text/x-python",
   "name": "python",
   "nbconvert_exporter": "python",
   "pygments_lexer": "ipython3",
   "version": "3.7.6"
  }
 },
 "nbformat": 4,
 "nbformat_minor": 4
}
