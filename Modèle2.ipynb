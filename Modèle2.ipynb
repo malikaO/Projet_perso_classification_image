{
 "cells": [
  {
   "cell_type": "markdown",
   "metadata": {},
   "source": [
    "# Importation  des données MINST et des bibliothéques"
   ]
  },
  {
   "cell_type": "code",
   "execution_count": 1,
   "metadata": {},
   "outputs": [
    {
     "name": "stderr",
     "output_type": "stream",
     "text": [
      "C:\\Users\\ouizb\\anaconda3\\lib\\site-packages\\tensorboard\\compat\\tensorflow_stub\\dtypes.py:541: FutureWarning: Passing (type, 1) or '1type' as a synonym of type is deprecated; in a future version of numpy, it will be understood as (type, (1,)) / '(1,)type'.\n",
      "  _np_qint8 = np.dtype([(\"qint8\", np.int8, 1)])\n",
      "C:\\Users\\ouizb\\anaconda3\\lib\\site-packages\\tensorboard\\compat\\tensorflow_stub\\dtypes.py:542: FutureWarning: Passing (type, 1) or '1type' as a synonym of type is deprecated; in a future version of numpy, it will be understood as (type, (1,)) / '(1,)type'.\n",
      "  _np_quint8 = np.dtype([(\"quint8\", np.uint8, 1)])\n",
      "C:\\Users\\ouizb\\anaconda3\\lib\\site-packages\\tensorboard\\compat\\tensorflow_stub\\dtypes.py:543: FutureWarning: Passing (type, 1) or '1type' as a synonym of type is deprecated; in a future version of numpy, it will be understood as (type, (1,)) / '(1,)type'.\n",
      "  _np_qint16 = np.dtype([(\"qint16\", np.int16, 1)])\n",
      "C:\\Users\\ouizb\\anaconda3\\lib\\site-packages\\tensorboard\\compat\\tensorflow_stub\\dtypes.py:544: FutureWarning: Passing (type, 1) or '1type' as a synonym of type is deprecated; in a future version of numpy, it will be understood as (type, (1,)) / '(1,)type'.\n",
      "  _np_quint16 = np.dtype([(\"quint16\", np.uint16, 1)])\n",
      "C:\\Users\\ouizb\\anaconda3\\lib\\site-packages\\tensorboard\\compat\\tensorflow_stub\\dtypes.py:545: FutureWarning: Passing (type, 1) or '1type' as a synonym of type is deprecated; in a future version of numpy, it will be understood as (type, (1,)) / '(1,)type'.\n",
      "  _np_qint32 = np.dtype([(\"qint32\", np.int32, 1)])\n",
      "C:\\Users\\ouizb\\anaconda3\\lib\\site-packages\\tensorboard\\compat\\tensorflow_stub\\dtypes.py:550: FutureWarning: Passing (type, 1) or '1type' as a synonym of type is deprecated; in a future version of numpy, it will be understood as (type, (1,)) / '(1,)type'.\n",
      "  np_resource = np.dtype([(\"resource\", np.ubyte, 1)])\n"
     ]
    }
   ],
   "source": [
    "# Importation du dataset MINST depuis Keras\n",
    "from notify_run import Notify # pour m'envoyer des notification\n",
    "from keras.datasets import mnist\n",
    "(x_train, y_train), (x_test, y_test) = mnist.load_data()"
   ]
  },
  {
   "cell_type": "code",
   "execution_count": 30,
   "metadata": {},
   "outputs": [
    {
     "data": {
      "text/html": [
       "<p>Endpoint: <samp>https://notify.run/fNsNLCuDoPWUYgpH</samp></p>\n",
       "<p>To subscribe, open: <a href=\"https://notify.run/c/fNsNLCuDoPWUYgpH\">https://notify.run/c/fNsNLCuDoPWUYgpH</a></p>\n",
       "<p>Or scan this QR code:</p>\n",
       "<?xml version=\"1.0\" encoding=\"UTF-8\"?>\n",
       "<svg xmlns=\"http://www.w3.org/2000/svg\" height=\"222\" width=\"222\" class=\"pyqrcode\"><path transform=\"scale(6)\" stroke=\"#000\" class=\"pyqrline\" d=\"M4 4.5h7m2 0h3m2 0h2m2 0h2m2 0h7m-29 1h1m5 0h1m4 0h2m4 0h1m4 0h1m5 0h1m-29 1h1m1 0h3m1 0h1m2 0h3m3 0h1m2 0h3m1 0h1m1 0h3m1 0h1m-29 1h1m1 0h3m1 0h1m1 0h1m1 0h2m2 0h1m2 0h1m2 0h1m1 0h1m1 0h3m1 0h1m-29 1h1m1 0h3m1 0h1m1 0h1m1 0h1m1 0h2m2 0h1m2 0h2m1 0h1m1 0h3m1 0h1m-29 1h1m5 0h1m2 0h2m2 0h2m1 0h3m1 0h1m1 0h1m5 0h1m-29 1h7m1 0h1m1 0h1m1 0h1m1 0h1m1 0h1m1 0h1m1 0h1m1 0h7m-20 1h1m2 0h2m1 0h2m2 0h2m-21 1h2m3 0h3m1 0h2m1 0h1m1 0h2m3 0h1m4 0h2m-25 1h1m2 0h2m1 0h2m1 0h1m3 0h2m1 0h4m2 0h2m1 0h2m-27 1h1m1 0h1m2 0h4m1 0h2m2 0h3m2 0h1m2 0h2m-25 1h2m1 0h3m4 0h2m2 0h1m3 0h2m2 0h1m2 0h1m-20 1h2m1 0h2m2 0h2m2 0h1m1 0h2m1 0h2m4 0h1m-29 1h2m1 0h3m2 0h1m1 0h1m1 0h3m1 0h9m2 0h2m-29 1h1m2 0h1m2 0h2m5 0h4m3 0h3m1 0h3m-27 1h1m1 0h1m1 0h1m2 0h3m2 0h3m3 0h2m1 0h4m1 0h1m1 0h1m-29 1h1m2 0h4m1 0h1m3 0h1m1 0h3m2 0h1m1 0h1m1 0h1m1 0h2m-27 1h1m1 0h4m2 0h3m5 0h1m1 0h2m2 0h3m1 0h3m-29 1h2m1 0h1m2 0h2m1 0h1m2 0h4m2 0h3m4 0h1m2 0h1m-29 1h1m1 0h3m4 0h3m2 0h3m2 0h2m1 0h2m-24 1h1m1 0h3m1 0h1m1 0h2m1 0h1m3 0h3m1 0h6m1 0h3m-21 1h1m3 0h2m6 0h1m3 0h2m-26 1h7m1 0h1m1 0h1m2 0h3m3 0h2m1 0h1m1 0h3m-27 1h1m5 0h1m1 0h2m2 0h2m5 0h2m3 0h1m2 0h1m-28 1h1m1 0h3m1 0h1m3 0h4m1 0h1m1 0h1m1 0h7m2 0h1m-29 1h1m1 0h3m1 0h1m3 0h1m5 0h1m1 0h2m1 0h1m3 0h2m1 0h1m-29 1h1m1 0h3m1 0h1m3 0h3m2 0h2m2 0h1m2 0h6m-28 1h1m5 0h1m1 0h1m2 0h1m3 0h1m2 0h2m2 0h1m2 0h2m1 0h1m-29 1h7m1 0h1m2 0h1m5 0h1m1 0h1m1 0h3m2 0h1\"/></svg>\n",
       "\n",
       "        "
      ],
      "text/plain": [
       "Endpoint: https://notify.run/fNsNLCuDoPWUYgpH\n",
       "To subscribe, open: https://notify.run/c/fNsNLCuDoPWUYgpH\n",
       "Or scan this QR code:\n",
       "\n",
       "\u001b[7m  \u001b[0m\u001b[7m  \u001b[0m\u001b[7m  \u001b[0m\u001b[7m  \u001b[0m\u001b[7m  \u001b[0m\u001b[7m  \u001b[0m\u001b[7m  \u001b[0m\u001b[7m  \u001b[0m\u001b[7m  \u001b[0m\u001b[7m  \u001b[0m\u001b[7m  \u001b[0m\u001b[7m  \u001b[0m\u001b[7m  \u001b[0m\u001b[7m  \u001b[0m\u001b[7m  \u001b[0m\u001b[7m  \u001b[0m\u001b[7m  \u001b[0m\u001b[7m  \u001b[0m\u001b[7m  \u001b[0m\u001b[7m  \u001b[0m\u001b[7m  \u001b[0m\u001b[7m  \u001b[0m\u001b[7m  \u001b[0m\u001b[7m  \u001b[0m\u001b[7m  \u001b[0m\u001b[7m  \u001b[0m\u001b[7m  \u001b[0m\u001b[7m  \u001b[0m\u001b[7m  \u001b[0m\u001b[7m  \u001b[0m\u001b[7m  \u001b[0m\n",
       "\u001b[7m  \u001b[0m\u001b[49m  \u001b[0m\u001b[49m  \u001b[0m\u001b[49m  \u001b[0m\u001b[49m  \u001b[0m\u001b[49m  \u001b[0m\u001b[49m  \u001b[0m\u001b[49m  \u001b[0m\u001b[7m  \u001b[0m\u001b[7m  \u001b[0m\u001b[49m  \u001b[0m\u001b[49m  \u001b[0m\u001b[49m  \u001b[0m\u001b[7m  \u001b[0m\u001b[7m  \u001b[0m\u001b[49m  \u001b[0m\u001b[49m  \u001b[0m\u001b[7m  \u001b[0m\u001b[7m  \u001b[0m\u001b[49m  \u001b[0m\u001b[49m  \u001b[0m\u001b[7m  \u001b[0m\u001b[7m  \u001b[0m\u001b[49m  \u001b[0m\u001b[49m  \u001b[0m\u001b[49m  \u001b[0m\u001b[49m  \u001b[0m\u001b[49m  \u001b[0m\u001b[49m  \u001b[0m\u001b[49m  \u001b[0m\u001b[7m  \u001b[0m\n",
       "\u001b[7m  \u001b[0m\u001b[49m  \u001b[0m\u001b[7m  \u001b[0m\u001b[7m  \u001b[0m\u001b[7m  \u001b[0m\u001b[7m  \u001b[0m\u001b[7m  \u001b[0m\u001b[49m  \u001b[0m\u001b[7m  \u001b[0m\u001b[7m  \u001b[0m\u001b[7m  \u001b[0m\u001b[7m  \u001b[0m\u001b[49m  \u001b[0m\u001b[49m  \u001b[0m\u001b[7m  \u001b[0m\u001b[7m  \u001b[0m\u001b[7m  \u001b[0m\u001b[7m  \u001b[0m\u001b[49m  \u001b[0m\u001b[7m  \u001b[0m\u001b[7m  \u001b[0m\u001b[7m  \u001b[0m\u001b[7m  \u001b[0m\u001b[49m  \u001b[0m\u001b[7m  \u001b[0m\u001b[7m  \u001b[0m\u001b[7m  \u001b[0m\u001b[7m  \u001b[0m\u001b[7m  \u001b[0m\u001b[49m  \u001b[0m\u001b[7m  \u001b[0m\n",
       "\u001b[7m  \u001b[0m\u001b[49m  \u001b[0m\u001b[7m  \u001b[0m\u001b[49m  \u001b[0m\u001b[49m  \u001b[0m\u001b[49m  \u001b[0m\u001b[7m  \u001b[0m\u001b[49m  \u001b[0m\u001b[7m  \u001b[0m\u001b[7m  \u001b[0m\u001b[49m  \u001b[0m\u001b[49m  \u001b[0m\u001b[49m  \u001b[0m\u001b[7m  \u001b[0m\u001b[7m  \u001b[0m\u001b[7m  \u001b[0m\u001b[49m  \u001b[0m\u001b[7m  \u001b[0m\u001b[7m  \u001b[0m\u001b[49m  \u001b[0m\u001b[49m  \u001b[0m\u001b[49m  \u001b[0m\u001b[7m  \u001b[0m\u001b[49m  \u001b[0m\u001b[7m  \u001b[0m\u001b[49m  \u001b[0m\u001b[49m  \u001b[0m\u001b[49m  \u001b[0m\u001b[7m  \u001b[0m\u001b[49m  \u001b[0m\u001b[7m  \u001b[0m\n",
       "\u001b[7m  \u001b[0m\u001b[49m  \u001b[0m\u001b[7m  \u001b[0m\u001b[49m  \u001b[0m\u001b[49m  \u001b[0m\u001b[49m  \u001b[0m\u001b[7m  \u001b[0m\u001b[49m  \u001b[0m\u001b[7m  \u001b[0m\u001b[49m  \u001b[0m\u001b[7m  \u001b[0m\u001b[49m  \u001b[0m\u001b[49m  \u001b[0m\u001b[7m  \u001b[0m\u001b[7m  \u001b[0m\u001b[49m  \u001b[0m\u001b[7m  \u001b[0m\u001b[7m  \u001b[0m\u001b[49m  \u001b[0m\u001b[7m  \u001b[0m\u001b[7m  \u001b[0m\u001b[49m  \u001b[0m\u001b[7m  \u001b[0m\u001b[49m  \u001b[0m\u001b[7m  \u001b[0m\u001b[49m  \u001b[0m\u001b[49m  \u001b[0m\u001b[49m  \u001b[0m\u001b[7m  \u001b[0m\u001b[49m  \u001b[0m\u001b[7m  \u001b[0m\n",
       "\u001b[7m  \u001b[0m\u001b[49m  \u001b[0m\u001b[7m  \u001b[0m\u001b[49m  \u001b[0m\u001b[49m  \u001b[0m\u001b[49m  \u001b[0m\u001b[7m  \u001b[0m\u001b[49m  \u001b[0m\u001b[7m  \u001b[0m\u001b[49m  \u001b[0m\u001b[7m  \u001b[0m\u001b[49m  \u001b[0m\u001b[7m  \u001b[0m\u001b[49m  \u001b[0m\u001b[49m  \u001b[0m\u001b[7m  \u001b[0m\u001b[7m  \u001b[0m\u001b[49m  \u001b[0m\u001b[7m  \u001b[0m\u001b[7m  \u001b[0m\u001b[49m  \u001b[0m\u001b[49m  \u001b[0m\u001b[7m  \u001b[0m\u001b[49m  \u001b[0m\u001b[7m  \u001b[0m\u001b[49m  \u001b[0m\u001b[49m  \u001b[0m\u001b[49m  \u001b[0m\u001b[7m  \u001b[0m\u001b[49m  \u001b[0m\u001b[7m  \u001b[0m\n",
       "\u001b[7m  \u001b[0m\u001b[49m  \u001b[0m\u001b[7m  \u001b[0m\u001b[7m  \u001b[0m\u001b[7m  \u001b[0m\u001b[7m  \u001b[0m\u001b[7m  \u001b[0m\u001b[49m  \u001b[0m\u001b[7m  \u001b[0m\u001b[7m  \u001b[0m\u001b[49m  \u001b[0m\u001b[49m  \u001b[0m\u001b[7m  \u001b[0m\u001b[7m  \u001b[0m\u001b[49m  \u001b[0m\u001b[49m  \u001b[0m\u001b[7m  \u001b[0m\u001b[49m  \u001b[0m\u001b[49m  \u001b[0m\u001b[49m  \u001b[0m\u001b[7m  \u001b[0m\u001b[49m  \u001b[0m\u001b[7m  \u001b[0m\u001b[49m  \u001b[0m\u001b[7m  \u001b[0m\u001b[7m  \u001b[0m\u001b[7m  \u001b[0m\u001b[7m  \u001b[0m\u001b[7m  \u001b[0m\u001b[49m  \u001b[0m\u001b[7m  \u001b[0m\n",
       "\u001b[7m  \u001b[0m\u001b[49m  \u001b[0m\u001b[49m  \u001b[0m\u001b[49m  \u001b[0m\u001b[49m  \u001b[0m\u001b[49m  \u001b[0m\u001b[49m  \u001b[0m\u001b[49m  \u001b[0m\u001b[7m  \u001b[0m\u001b[49m  \u001b[0m\u001b[7m  \u001b[0m\u001b[49m  \u001b[0m\u001b[7m  \u001b[0m\u001b[49m  \u001b[0m\u001b[7m  \u001b[0m\u001b[49m  \u001b[0m\u001b[7m  \u001b[0m\u001b[49m  \u001b[0m\u001b[7m  \u001b[0m\u001b[49m  \u001b[0m\u001b[7m  \u001b[0m\u001b[49m  \u001b[0m\u001b[7m  \u001b[0m\u001b[49m  \u001b[0m\u001b[49m  \u001b[0m\u001b[49m  \u001b[0m\u001b[49m  \u001b[0m\u001b[49m  \u001b[0m\u001b[49m  \u001b[0m\u001b[49m  \u001b[0m\u001b[7m  \u001b[0m\n",
       "\u001b[7m  \u001b[0m\u001b[7m  \u001b[0m\u001b[7m  \u001b[0m\u001b[7m  \u001b[0m\u001b[7m  \u001b[0m\u001b[7m  \u001b[0m\u001b[7m  \u001b[0m\u001b[7m  \u001b[0m\u001b[7m  \u001b[0m\u001b[7m  \u001b[0m\u001b[49m  \u001b[0m\u001b[7m  \u001b[0m\u001b[7m  \u001b[0m\u001b[49m  \u001b[0m\u001b[49m  \u001b[0m\u001b[7m  \u001b[0m\u001b[49m  \u001b[0m\u001b[49m  \u001b[0m\u001b[7m  \u001b[0m\u001b[7m  \u001b[0m\u001b[49m  \u001b[0m\u001b[49m  \u001b[0m\u001b[7m  \u001b[0m\u001b[7m  \u001b[0m\u001b[7m  \u001b[0m\u001b[7m  \u001b[0m\u001b[7m  \u001b[0m\u001b[7m  \u001b[0m\u001b[7m  \u001b[0m\u001b[7m  \u001b[0m\u001b[7m  \u001b[0m\n",
       "\u001b[7m  \u001b[0m\u001b[49m  \u001b[0m\u001b[49m  \u001b[0m\u001b[7m  \u001b[0m\u001b[7m  \u001b[0m\u001b[7m  \u001b[0m\u001b[49m  \u001b[0m\u001b[49m  \u001b[0m\u001b[49m  \u001b[0m\u001b[7m  \u001b[0m\u001b[49m  \u001b[0m\u001b[49m  \u001b[0m\u001b[7m  \u001b[0m\u001b[49m  \u001b[0m\u001b[7m  \u001b[0m\u001b[49m  \u001b[0m\u001b[49m  \u001b[0m\u001b[7m  \u001b[0m\u001b[7m  \u001b[0m\u001b[7m  \u001b[0m\u001b[49m  \u001b[0m\u001b[7m  \u001b[0m\u001b[7m  \u001b[0m\u001b[7m  \u001b[0m\u001b[7m  \u001b[0m\u001b[49m  \u001b[0m\u001b[49m  \u001b[0m\u001b[7m  \u001b[0m\u001b[7m  \u001b[0m\u001b[7m  \u001b[0m\u001b[7m  \u001b[0m\n",
       "\u001b[7m  \u001b[0m\u001b[7m  \u001b[0m\u001b[49m  \u001b[0m\u001b[7m  \u001b[0m\u001b[7m  \u001b[0m\u001b[49m  \u001b[0m\u001b[49m  \u001b[0m\u001b[7m  \u001b[0m\u001b[49m  \u001b[0m\u001b[49m  \u001b[0m\u001b[7m  \u001b[0m\u001b[49m  \u001b[0m\u001b[7m  \u001b[0m\u001b[7m  \u001b[0m\u001b[7m  \u001b[0m\u001b[49m  \u001b[0m\u001b[49m  \u001b[0m\u001b[7m  \u001b[0m\u001b[49m  \u001b[0m\u001b[49m  \u001b[0m\u001b[49m  \u001b[0m\u001b[49m  \u001b[0m\u001b[7m  \u001b[0m\u001b[7m  \u001b[0m\u001b[49m  \u001b[0m\u001b[49m  \u001b[0m\u001b[7m  \u001b[0m\u001b[49m  \u001b[0m\u001b[49m  \u001b[0m\u001b[7m  \u001b[0m\u001b[7m  \u001b[0m\n",
       "\u001b[7m  \u001b[0m\u001b[7m  \u001b[0m\u001b[49m  \u001b[0m\u001b[7m  \u001b[0m\u001b[49m  \u001b[0m\u001b[7m  \u001b[0m\u001b[7m  \u001b[0m\u001b[49m  \u001b[0m\u001b[49m  \u001b[0m\u001b[49m  \u001b[0m\u001b[49m  \u001b[0m\u001b[7m  \u001b[0m\u001b[49m  \u001b[0m\u001b[49m  \u001b[0m\u001b[7m  \u001b[0m\u001b[7m  \u001b[0m\u001b[49m  \u001b[0m\u001b[49m  \u001b[0m\u001b[49m  \u001b[0m\u001b[7m  \u001b[0m\u001b[7m  \u001b[0m\u001b[49m  \u001b[0m\u001b[7m  \u001b[0m\u001b[7m  \u001b[0m\u001b[49m  \u001b[0m\u001b[49m  \u001b[0m\u001b[7m  \u001b[0m\u001b[7m  \u001b[0m\u001b[7m  \u001b[0m\u001b[7m  \u001b[0m\u001b[7m  \u001b[0m\n",
       "\u001b[7m  \u001b[0m\u001b[49m  \u001b[0m\u001b[49m  \u001b[0m\u001b[7m  \u001b[0m\u001b[49m  \u001b[0m\u001b[49m  \u001b[0m\u001b[49m  \u001b[0m\u001b[7m  \u001b[0m\u001b[7m  \u001b[0m\u001b[7m  \u001b[0m\u001b[7m  \u001b[0m\u001b[49m  \u001b[0m\u001b[49m  \u001b[0m\u001b[7m  \u001b[0m\u001b[7m  \u001b[0m\u001b[49m  \u001b[0m\u001b[7m  \u001b[0m\u001b[7m  \u001b[0m\u001b[7m  \u001b[0m\u001b[49m  \u001b[0m\u001b[49m  \u001b[0m\u001b[7m  \u001b[0m\u001b[7m  \u001b[0m\u001b[49m  \u001b[0m\u001b[7m  \u001b[0m\u001b[7m  \u001b[0m\u001b[49m  \u001b[0m\u001b[7m  \u001b[0m\u001b[7m  \u001b[0m\u001b[7m  \u001b[0m\u001b[7m  \u001b[0m\n",
       "\u001b[7m  \u001b[0m\u001b[7m  \u001b[0m\u001b[7m  \u001b[0m\u001b[7m  \u001b[0m\u001b[7m  \u001b[0m\u001b[7m  \u001b[0m\u001b[7m  \u001b[0m\u001b[49m  \u001b[0m\u001b[49m  \u001b[0m\u001b[7m  \u001b[0m\u001b[49m  \u001b[0m\u001b[49m  \u001b[0m\u001b[7m  \u001b[0m\u001b[7m  \u001b[0m\u001b[49m  \u001b[0m\u001b[49m  \u001b[0m\u001b[7m  \u001b[0m\u001b[7m  \u001b[0m\u001b[49m  \u001b[0m\u001b[7m  \u001b[0m\u001b[49m  \u001b[0m\u001b[49m  \u001b[0m\u001b[7m  \u001b[0m\u001b[49m  \u001b[0m\u001b[49m  \u001b[0m\u001b[7m  \u001b[0m\u001b[7m  \u001b[0m\u001b[7m  \u001b[0m\u001b[7m  \u001b[0m\u001b[49m  \u001b[0m\u001b[7m  \u001b[0m\n",
       "\u001b[7m  \u001b[0m\u001b[49m  \u001b[0m\u001b[49m  \u001b[0m\u001b[7m  \u001b[0m\u001b[49m  \u001b[0m\u001b[49m  \u001b[0m\u001b[49m  \u001b[0m\u001b[7m  \u001b[0m\u001b[7m  \u001b[0m\u001b[49m  \u001b[0m\u001b[7m  \u001b[0m\u001b[49m  \u001b[0m\u001b[7m  \u001b[0m\u001b[49m  \u001b[0m\u001b[49m  \u001b[0m\u001b[49m  \u001b[0m\u001b[7m  \u001b[0m\u001b[49m  \u001b[0m\u001b[49m  \u001b[0m\u001b[49m  \u001b[0m\u001b[49m  \u001b[0m\u001b[49m  \u001b[0m\u001b[49m  \u001b[0m\u001b[49m  \u001b[0m\u001b[49m  \u001b[0m\u001b[49m  \u001b[0m\u001b[7m  \u001b[0m\u001b[7m  \u001b[0m\u001b[49m  \u001b[0m\u001b[49m  \u001b[0m\u001b[7m  \u001b[0m\n",
       "\u001b[7m  \u001b[0m\u001b[49m  \u001b[0m\u001b[7m  \u001b[0m\u001b[7m  \u001b[0m\u001b[49m  \u001b[0m\u001b[7m  \u001b[0m\u001b[7m  \u001b[0m\u001b[49m  \u001b[0m\u001b[49m  \u001b[0m\u001b[7m  \u001b[0m\u001b[7m  \u001b[0m\u001b[7m  \u001b[0m\u001b[7m  \u001b[0m\u001b[7m  \u001b[0m\u001b[49m  \u001b[0m\u001b[49m  \u001b[0m\u001b[49m  \u001b[0m\u001b[49m  \u001b[0m\u001b[7m  \u001b[0m\u001b[7m  \u001b[0m\u001b[7m  \u001b[0m\u001b[49m  \u001b[0m\u001b[49m  \u001b[0m\u001b[49m  \u001b[0m\u001b[7m  \u001b[0m\u001b[49m  \u001b[0m\u001b[49m  \u001b[0m\u001b[49m  \u001b[0m\u001b[7m  \u001b[0m\u001b[7m  \u001b[0m\u001b[7m  \u001b[0m\n",
       "\u001b[7m  \u001b[0m\u001b[49m  \u001b[0m\u001b[7m  \u001b[0m\u001b[49m  \u001b[0m\u001b[7m  \u001b[0m\u001b[49m  \u001b[0m\u001b[7m  \u001b[0m\u001b[7m  \u001b[0m\u001b[49m  \u001b[0m\u001b[49m  \u001b[0m\u001b[49m  \u001b[0m\u001b[7m  \u001b[0m\u001b[7m  \u001b[0m\u001b[49m  \u001b[0m\u001b[49m  \u001b[0m\u001b[49m  \u001b[0m\u001b[7m  \u001b[0m\u001b[7m  \u001b[0m\u001b[7m  \u001b[0m\u001b[49m  \u001b[0m\u001b[49m  \u001b[0m\u001b[7m  \u001b[0m\u001b[49m  \u001b[0m\u001b[49m  \u001b[0m\u001b[49m  \u001b[0m\u001b[49m  \u001b[0m\u001b[7m  \u001b[0m\u001b[49m  \u001b[0m\u001b[7m  \u001b[0m\u001b[49m  \u001b[0m\u001b[7m  \u001b[0m\n",
       "\u001b[7m  \u001b[0m\u001b[49m  \u001b[0m\u001b[7m  \u001b[0m\u001b[7m  \u001b[0m\u001b[49m  \u001b[0m\u001b[49m  \u001b[0m\u001b[49m  \u001b[0m\u001b[49m  \u001b[0m\u001b[7m  \u001b[0m\u001b[49m  \u001b[0m\u001b[7m  \u001b[0m\u001b[7m  \u001b[0m\u001b[7m  \u001b[0m\u001b[49m  \u001b[0m\u001b[7m  \u001b[0m\u001b[49m  \u001b[0m\u001b[49m  \u001b[0m\u001b[49m  \u001b[0m\u001b[7m  \u001b[0m\u001b[7m  \u001b[0m\u001b[49m  \u001b[0m\u001b[7m  \u001b[0m\u001b[49m  \u001b[0m\u001b[7m  \u001b[0m\u001b[49m  \u001b[0m\u001b[7m  \u001b[0m\u001b[49m  \u001b[0m\u001b[49m  \u001b[0m\u001b[7m  \u001b[0m\u001b[7m  \u001b[0m\u001b[7m  \u001b[0m\n",
       "\u001b[7m  \u001b[0m\u001b[49m  \u001b[0m\u001b[7m  \u001b[0m\u001b[49m  \u001b[0m\u001b[49m  \u001b[0m\u001b[49m  \u001b[0m\u001b[49m  \u001b[0m\u001b[7m  \u001b[0m\u001b[7m  \u001b[0m\u001b[49m  \u001b[0m\u001b[49m  \u001b[0m\u001b[49m  \u001b[0m\u001b[7m  \u001b[0m\u001b[7m  \u001b[0m\u001b[7m  \u001b[0m\u001b[7m  \u001b[0m\u001b[7m  \u001b[0m\u001b[49m  \u001b[0m\u001b[7m  \u001b[0m\u001b[49m  \u001b[0m\u001b[49m  \u001b[0m\u001b[7m  \u001b[0m\u001b[7m  \u001b[0m\u001b[49m  \u001b[0m\u001b[49m  \u001b[0m\u001b[49m  \u001b[0m\u001b[7m  \u001b[0m\u001b[49m  \u001b[0m\u001b[49m  \u001b[0m\u001b[49m  \u001b[0m\u001b[7m  \u001b[0m\n",
       "\u001b[7m  \u001b[0m\u001b[49m  \u001b[0m\u001b[49m  \u001b[0m\u001b[7m  \u001b[0m\u001b[49m  \u001b[0m\u001b[7m  \u001b[0m\u001b[7m  \u001b[0m\u001b[49m  \u001b[0m\u001b[49m  \u001b[0m\u001b[7m  \u001b[0m\u001b[49m  \u001b[0m\u001b[7m  \u001b[0m\u001b[7m  \u001b[0m\u001b[49m  \u001b[0m\u001b[49m  \u001b[0m\u001b[49m  \u001b[0m\u001b[49m  \u001b[0m\u001b[7m  \u001b[0m\u001b[7m  \u001b[0m\u001b[49m  \u001b[0m\u001b[49m  \u001b[0m\u001b[49m  \u001b[0m\u001b[7m  \u001b[0m\u001b[7m  \u001b[0m\u001b[7m  \u001b[0m\u001b[7m  \u001b[0m\u001b[49m  \u001b[0m\u001b[7m  \u001b[0m\u001b[7m  \u001b[0m\u001b[49m  \u001b[0m\u001b[7m  \u001b[0m\n",
       "\u001b[7m  \u001b[0m\u001b[49m  \u001b[0m\u001b[7m  \u001b[0m\u001b[49m  \u001b[0m\u001b[49m  \u001b[0m\u001b[49m  \u001b[0m\u001b[7m  \u001b[0m\u001b[7m  \u001b[0m\u001b[7m  \u001b[0m\u001b[7m  \u001b[0m\u001b[49m  \u001b[0m\u001b[49m  \u001b[0m\u001b[49m  \u001b[0m\u001b[7m  \u001b[0m\u001b[7m  \u001b[0m\u001b[49m  \u001b[0m\u001b[49m  \u001b[0m\u001b[49m  \u001b[0m\u001b[7m  \u001b[0m\u001b[7m  \u001b[0m\u001b[49m  \u001b[0m\u001b[49m  \u001b[0m\u001b[7m  \u001b[0m\u001b[49m  \u001b[0m\u001b[49m  \u001b[0m\u001b[7m  \u001b[0m\u001b[7m  \u001b[0m\u001b[7m  \u001b[0m\u001b[7m  \u001b[0m\u001b[7m  \u001b[0m\u001b[7m  \u001b[0m\n",
       "\u001b[7m  \u001b[0m\u001b[49m  \u001b[0m\u001b[7m  \u001b[0m\u001b[49m  \u001b[0m\u001b[49m  \u001b[0m\u001b[49m  \u001b[0m\u001b[7m  \u001b[0m\u001b[49m  \u001b[0m\u001b[7m  \u001b[0m\u001b[49m  \u001b[0m\u001b[49m  \u001b[0m\u001b[7m  \u001b[0m\u001b[49m  \u001b[0m\u001b[7m  \u001b[0m\u001b[7m  \u001b[0m\u001b[7m  \u001b[0m\u001b[49m  \u001b[0m\u001b[49m  \u001b[0m\u001b[49m  \u001b[0m\u001b[7m  \u001b[0m\u001b[49m  \u001b[0m\u001b[49m  \u001b[0m\u001b[49m  \u001b[0m\u001b[49m  \u001b[0m\u001b[49m  \u001b[0m\u001b[49m  \u001b[0m\u001b[7m  \u001b[0m\u001b[49m  \u001b[0m\u001b[49m  \u001b[0m\u001b[49m  \u001b[0m\u001b[7m  \u001b[0m\n",
       "\u001b[7m  \u001b[0m\u001b[7m  \u001b[0m\u001b[7m  \u001b[0m\u001b[7m  \u001b[0m\u001b[7m  \u001b[0m\u001b[7m  \u001b[0m\u001b[7m  \u001b[0m\u001b[7m  \u001b[0m\u001b[7m  \u001b[0m\u001b[49m  \u001b[0m\u001b[7m  \u001b[0m\u001b[7m  \u001b[0m\u001b[7m  \u001b[0m\u001b[49m  \u001b[0m\u001b[49m  \u001b[0m\u001b[7m  \u001b[0m\u001b[7m  \u001b[0m\u001b[7m  \u001b[0m\u001b[7m  \u001b[0m\u001b[7m  \u001b[0m\u001b[7m  \u001b[0m\u001b[49m  \u001b[0m\u001b[7m  \u001b[0m\u001b[7m  \u001b[0m\u001b[7m  \u001b[0m\u001b[49m  \u001b[0m\u001b[49m  \u001b[0m\u001b[7m  \u001b[0m\u001b[7m  \u001b[0m\u001b[7m  \u001b[0m\u001b[7m  \u001b[0m\n",
       "\u001b[7m  \u001b[0m\u001b[49m  \u001b[0m\u001b[49m  \u001b[0m\u001b[49m  \u001b[0m\u001b[49m  \u001b[0m\u001b[49m  \u001b[0m\u001b[49m  \u001b[0m\u001b[49m  \u001b[0m\u001b[7m  \u001b[0m\u001b[49m  \u001b[0m\u001b[7m  \u001b[0m\u001b[49m  \u001b[0m\u001b[7m  \u001b[0m\u001b[7m  \u001b[0m\u001b[49m  \u001b[0m\u001b[49m  \u001b[0m\u001b[49m  \u001b[0m\u001b[7m  \u001b[0m\u001b[7m  \u001b[0m\u001b[7m  \u001b[0m\u001b[49m  \u001b[0m\u001b[49m  \u001b[0m\u001b[7m  \u001b[0m\u001b[49m  \u001b[0m\u001b[7m  \u001b[0m\u001b[49m  \u001b[0m\u001b[49m  \u001b[0m\u001b[49m  \u001b[0m\u001b[7m  \u001b[0m\u001b[7m  \u001b[0m\u001b[7m  \u001b[0m\n",
       "\u001b[7m  \u001b[0m\u001b[49m  \u001b[0m\u001b[7m  \u001b[0m\u001b[7m  \u001b[0m\u001b[7m  \u001b[0m\u001b[7m  \u001b[0m\u001b[7m  \u001b[0m\u001b[49m  \u001b[0m\u001b[7m  \u001b[0m\u001b[49m  \u001b[0m\u001b[49m  \u001b[0m\u001b[7m  \u001b[0m\u001b[7m  \u001b[0m\u001b[49m  \u001b[0m\u001b[49m  \u001b[0m\u001b[7m  \u001b[0m\u001b[7m  \u001b[0m\u001b[7m  \u001b[0m\u001b[7m  \u001b[0m\u001b[7m  \u001b[0m\u001b[49m  \u001b[0m\u001b[49m  \u001b[0m\u001b[7m  \u001b[0m\u001b[7m  \u001b[0m\u001b[7m  \u001b[0m\u001b[49m  \u001b[0m\u001b[7m  \u001b[0m\u001b[7m  \u001b[0m\u001b[49m  \u001b[0m\u001b[7m  \u001b[0m\u001b[7m  \u001b[0m\n",
       "\u001b[7m  \u001b[0m\u001b[49m  \u001b[0m\u001b[7m  \u001b[0m\u001b[49m  \u001b[0m\u001b[49m  \u001b[0m\u001b[49m  \u001b[0m\u001b[7m  \u001b[0m\u001b[49m  \u001b[0m\u001b[7m  \u001b[0m\u001b[7m  \u001b[0m\u001b[7m  \u001b[0m\u001b[49m  \u001b[0m\u001b[49m  \u001b[0m\u001b[49m  \u001b[0m\u001b[49m  \u001b[0m\u001b[7m  \u001b[0m\u001b[49m  \u001b[0m\u001b[7m  \u001b[0m\u001b[49m  \u001b[0m\u001b[7m  \u001b[0m\u001b[49m  \u001b[0m\u001b[49m  \u001b[0m\u001b[49m  \u001b[0m\u001b[49m  \u001b[0m\u001b[49m  \u001b[0m\u001b[49m  \u001b[0m\u001b[49m  \u001b[0m\u001b[7m  \u001b[0m\u001b[7m  \u001b[0m\u001b[49m  \u001b[0m\u001b[7m  \u001b[0m\n",
       "\u001b[7m  \u001b[0m\u001b[49m  \u001b[0m\u001b[7m  \u001b[0m\u001b[49m  \u001b[0m\u001b[49m  \u001b[0m\u001b[49m  \u001b[0m\u001b[7m  \u001b[0m\u001b[49m  \u001b[0m\u001b[7m  \u001b[0m\u001b[7m  \u001b[0m\u001b[7m  \u001b[0m\u001b[49m  \u001b[0m\u001b[7m  \u001b[0m\u001b[7m  \u001b[0m\u001b[7m  \u001b[0m\u001b[7m  \u001b[0m\u001b[7m  \u001b[0m\u001b[49m  \u001b[0m\u001b[7m  \u001b[0m\u001b[49m  \u001b[0m\u001b[49m  \u001b[0m\u001b[7m  \u001b[0m\u001b[49m  \u001b[0m\u001b[7m  \u001b[0m\u001b[7m  \u001b[0m\u001b[7m  \u001b[0m\u001b[49m  \u001b[0m\u001b[49m  \u001b[0m\u001b[7m  \u001b[0m\u001b[49m  \u001b[0m\u001b[7m  \u001b[0m\n",
       "\u001b[7m  \u001b[0m\u001b[49m  \u001b[0m\u001b[7m  \u001b[0m\u001b[49m  \u001b[0m\u001b[49m  \u001b[0m\u001b[49m  \u001b[0m\u001b[7m  \u001b[0m\u001b[49m  \u001b[0m\u001b[7m  \u001b[0m\u001b[7m  \u001b[0m\u001b[7m  \u001b[0m\u001b[49m  \u001b[0m\u001b[49m  \u001b[0m\u001b[49m  \u001b[0m\u001b[7m  \u001b[0m\u001b[7m  \u001b[0m\u001b[49m  \u001b[0m\u001b[49m  \u001b[0m\u001b[7m  \u001b[0m\u001b[7m  \u001b[0m\u001b[49m  \u001b[0m\u001b[7m  \u001b[0m\u001b[7m  \u001b[0m\u001b[49m  \u001b[0m\u001b[49m  \u001b[0m\u001b[49m  \u001b[0m\u001b[49m  \u001b[0m\u001b[49m  \u001b[0m\u001b[49m  \u001b[0m\u001b[7m  \u001b[0m\u001b[7m  \u001b[0m\n",
       "\u001b[7m  \u001b[0m\u001b[49m  \u001b[0m\u001b[7m  \u001b[0m\u001b[7m  \u001b[0m\u001b[7m  \u001b[0m\u001b[7m  \u001b[0m\u001b[7m  \u001b[0m\u001b[49m  \u001b[0m\u001b[7m  \u001b[0m\u001b[49m  \u001b[0m\u001b[7m  \u001b[0m\u001b[7m  \u001b[0m\u001b[49m  \u001b[0m\u001b[7m  \u001b[0m\u001b[7m  \u001b[0m\u001b[7m  \u001b[0m\u001b[49m  \u001b[0m\u001b[7m  \u001b[0m\u001b[7m  \u001b[0m\u001b[49m  \u001b[0m\u001b[49m  \u001b[0m\u001b[7m  \u001b[0m\u001b[7m  \u001b[0m\u001b[49m  \u001b[0m\u001b[7m  \u001b[0m\u001b[7m  \u001b[0m\u001b[49m  \u001b[0m\u001b[49m  \u001b[0m\u001b[7m  \u001b[0m\u001b[49m  \u001b[0m\u001b[7m  \u001b[0m\n",
       "\u001b[7m  \u001b[0m\u001b[49m  \u001b[0m\u001b[49m  \u001b[0m\u001b[49m  \u001b[0m\u001b[49m  \u001b[0m\u001b[49m  \u001b[0m\u001b[49m  \u001b[0m\u001b[49m  \u001b[0m\u001b[7m  \u001b[0m\u001b[49m  \u001b[0m\u001b[7m  \u001b[0m\u001b[7m  \u001b[0m\u001b[49m  \u001b[0m\u001b[7m  \u001b[0m\u001b[7m  \u001b[0m\u001b[7m  \u001b[0m\u001b[7m  \u001b[0m\u001b[7m  \u001b[0m\u001b[49m  \u001b[0m\u001b[7m  \u001b[0m\u001b[49m  \u001b[0m\u001b[7m  \u001b[0m\u001b[49m  \u001b[0m\u001b[49m  \u001b[0m\u001b[49m  \u001b[0m\u001b[7m  \u001b[0m\u001b[7m  \u001b[0m\u001b[49m  \u001b[0m\u001b[7m  \u001b[0m\u001b[7m  \u001b[0m\u001b[7m  \u001b[0m\n",
       "\u001b[7m  \u001b[0m\u001b[7m  \u001b[0m\u001b[7m  \u001b[0m\u001b[7m  \u001b[0m\u001b[7m  \u001b[0m\u001b[7m  \u001b[0m\u001b[7m  \u001b[0m\u001b[7m  \u001b[0m\u001b[7m  \u001b[0m\u001b[7m  \u001b[0m\u001b[7m  \u001b[0m\u001b[7m  \u001b[0m\u001b[7m  \u001b[0m\u001b[7m  \u001b[0m\u001b[7m  \u001b[0m\u001b[7m  \u001b[0m\u001b[7m  \u001b[0m\u001b[7m  \u001b[0m\u001b[7m  \u001b[0m\u001b[7m  \u001b[0m\u001b[7m  \u001b[0m\u001b[7m  \u001b[0m\u001b[7m  \u001b[0m\u001b[7m  \u001b[0m\u001b[7m  \u001b[0m\u001b[7m  \u001b[0m\u001b[7m  \u001b[0m\u001b[7m  \u001b[0m\u001b[7m  \u001b[0m\u001b[7m  \u001b[0m\u001b[7m  \u001b[0m\n",
       "\n",
       "        "
      ]
     },
     "execution_count": 30,
     "metadata": {},
     "output_type": "execute_result"
    }
   ],
   "source": [
    "notify = Notify()\n",
    "notify.register()"
   ]
  },
  {
   "cell_type": "markdown",
   "metadata": {},
   "source": [
    "Le dataste comporte des nombres de 0 à 9 de 28 sur 28 pixels. Les images sont monochromes."
   ]
  },
  {
   "cell_type": "code",
   "execution_count": 2,
   "metadata": {},
   "outputs": [
    {
     "name": "stdout",
     "output_type": "stream",
     "text": [
      "<class 'numpy.ndarray'>\n",
      "<class 'numpy.ndarray'>\n",
      "<class 'numpy.ndarray'>\n",
      "<class 'numpy.ndarray'>\n"
     ]
    }
   ],
   "source": [
    "# vérifions le type : ceux sont de numpy array\n",
    "print(type(x_train))\n",
    "print(type(x_test))\n",
    "print(type(y_train))\n",
    "print(type(y_test))"
   ]
  },
  {
   "cell_type": "code",
   "execution_count": 3,
   "metadata": {},
   "outputs": [
    {
     "name": "stdout",
     "output_type": "stream",
     "text": [
      "(60000, 28, 28)\n",
      "(10000, 28, 28)\n",
      "x_train comporte 60000 images\n",
      "x_test comporte  10000 images\n"
     ]
    }
   ],
   "source": [
    "print(x_train.shape)\n",
    "print(x_test.shape)\n",
    "print(f'x_train comporte {x_train.shape[0]} images')\n",
    "print(f'x_test comporte  {x_test.shape[0]} images')"
   ]
  },
  {
   "cell_type": "code",
   "execution_count": 4,
   "metadata": {},
   "outputs": [
    {
     "data": {
      "text/plain": [
       "<Figure size 432x288 with 0 Axes>"
      ]
     },
     "metadata": {},
     "output_type": "display_data"
    },
    {
     "data": {
      "image/png": "[encoded data removed]",
      "text/plain": [
       "<Figure size 720x648 with 9 Axes>"
      ]
     },
     "metadata": {
      "needs_background": "light"
     },
     "output_type": "display_data"
    }
   ],
   "source": [
    "import matplotlib.pyplot as plt\n",
    "plt.gray()\n",
    "plt.figure(figsize = (10,9))\n",
    "for i in range(9):\n",
    "    plt.subplot(3,3,i+1)\n",
    "    plt.imshow(x_train[i])"
   ]
  },
  {
   "cell_type": "code",
   "execution_count": 5,
   "metadata": {},
   "outputs": [
    {
     "name": "stdout",
     "output_type": "stream",
     "text": [
      "5\n",
      "0\n",
      "4\n",
      "1\n",
      "9\n"
     ]
    }
   ],
   "source": [
    "# Exemple d'impression dans y_train\n",
    "for i in range(5):\n",
    "    print(y_train[i])"
   ]
  },
  {
   "cell_type": "markdown",
   "metadata": {},
   "source": [
    "## Prétraitement des données"
   ]
  },
  {
   "cell_type": "code",
   "execution_count": 6,
   "metadata": {},
   "outputs": [
    {
     "name": "stdout",
     "output_type": "stream",
     "text": [
      "0\n",
      "255\n"
     ]
    }
   ],
   "source": [
    "# Vérification des valeurs minimale et maximale de x_train\n",
    "print(x_train.min())\n",
    "print(x_train.max())"
   ]
  },
  {
   "cell_type": "code",
   "execution_count": 7,
   "metadata": {},
   "outputs": [],
   "source": [
    "# On s'assurer que les valeurs sont flottantes afin que nous puissions obtenir des points décimaux après la division\n",
    "x_train = x_train.astype('float')\n",
    "x_test = x_test.astype('float')"
   ]
  },
  {
   "cell_type": "code",
   "execution_count": 8,
   "metadata": {},
   "outputs": [],
   "source": [
    "# Normaliser les codes RVB en les divisant par la valeur RVB maximale.\n",
    "x_train = x_train/255.0\n",
    "x_test = x_test/255.0"
   ]
  },
  {
   "cell_type": "code",
   "execution_count": 9,
   "metadata": {},
   "outputs": [
    {
     "name": "stdout",
     "output_type": "stream",
     "text": [
      "0.0\n",
      "1.0\n"
     ]
    }
   ],
   "source": [
    "# Vérification des valeurs minimale et maximale de x_train\n",
    "print(x_train.min())\n",
    "print(x_train.max())"
   ]
  },
  {
   "cell_type": "markdown",
   "metadata": {},
   "source": [
    "Les données d'entrée doivent être converties du format tridimensionnel au format bidimensionnel pour être introduites dans l'algorithme de clustering K-Means. Par conséquent, les données d'entrée doivent être remodelées."
   ]
  },
  {
   "cell_type": "code",
   "execution_count": 10,
   "metadata": {},
   "outputs": [],
   "source": [
    "# Redimmension des données d'entrée\n",
    "X_train = x_train.reshape(len(x_train),-1)\n",
    "X_test = x_test.reshape(len(x_test),-1)"
   ]
  },
  {
   "cell_type": "code",
   "execution_count": 11,
   "metadata": {},
   "outputs": [
    {
     "name": "stdout",
     "output_type": "stream",
     "text": [
      "(60000, 784)\n",
      "(10000, 784)\n"
     ]
    }
   ],
   "source": [
    "# Vérification des dimensions\n",
    "print(X_train.shape)\n",
    "print(X_test.shape)"
   ]
  },
  {
   "cell_type": "markdown",
   "metadata": {},
   "source": [
    "### PCA"
   ]
  },
  {
   "cell_type": "code",
   "execution_count": 12,
   "metadata": {},
   "outputs": [
    {
     "name": "stdout",
     "output_type": "stream",
     "text": [
      "Nombre de composants : 784\n",
      "[[ 5.26572512e-20  5.55111512e-17 -5.55111512e-17 ...  0.00000000e+00\n",
      "   0.00000000e+00  0.00000000e+00]\n",
      " [-1.81692231e-19 -2.77555756e-17  1.66533454e-16 ...  0.00000000e+00\n",
      "   0.00000000e+00  0.00000000e+00]\n",
      " [-1.63850308e-20 -1.33573708e-16 -6.93889390e-18 ... -0.00000000e+00\n",
      "  -0.00000000e+00 -0.00000000e+00]\n",
      " ...\n",
      " [ 0.00000000e+00  3.35883679e-02  2.32777464e-01 ...  0.00000000e+00\n",
      "   0.00000000e+00  0.00000000e+00]\n",
      " [ 0.00000000e+00 -6.20468921e-01  6.45983368e-02 ...  0.00000000e+00\n",
      "   0.00000000e+00  0.00000000e+00]\n",
      " [-0.00000000e+00  3.40121957e-02  6.97381412e-02 ... -0.00000000e+00\n",
      "  -0.00000000e+00 -0.00000000e+00]]\n",
      "[9.70466436e-02 7.09592406e-02 6.16908876e-02 5.38941949e-02\n",
      " 4.86879702e-02 4.31223132e-02 3.27192995e-02 2.88389545e-02\n",
      " 2.76202940e-02 2.35700055e-02 2.10918962e-02 2.02299108e-02\n",
      " 1.71581820e-02 1.69211143e-02 1.57864128e-02 1.48295261e-02\n",
      " 1.32456095e-02 1.27689737e-02 1.18726294e-02 1.15268370e-02\n",
      " 1.06616621e-02 1.00671337e-02 9.53573327e-03 9.12543746e-03\n",
      " 8.83404692e-03 8.39319141e-03 8.12578809e-03 7.86366084e-03\n",
      " 7.44733102e-03 6.90859128e-03 6.58093773e-03 6.48147870e-03\n",
      " 6.02615030e-03 5.86582188e-03 5.70021474e-03 5.43627771e-03\n",
      " 5.05786416e-03 4.87858604e-03 4.81429342e-03 4.72266326e-03\n",
      " 4.56746921e-03 4.44836012e-03 4.18501329e-03 3.98215339e-03\n",
      " 3.84974607e-03 3.75103387e-03 3.62008852e-03 3.51591277e-03\n",
      " 3.40058205e-03 3.21874467e-03 3.19017051e-03 3.12804939e-03\n",
      " 2.95982668e-03 2.88954600e-03 2.84130398e-03 2.71435811e-03\n",
      " 2.69521453e-03 2.58472546e-03 2.53770594e-03 2.44780960e-03\n",
      " 2.40506133e-03 2.39262901e-03 2.30408489e-03 2.21532131e-03\n",
      " 2.13720816e-03 2.07225240e-03 2.03042671e-03 1.96782616e-03\n",
      " 1.92852594e-03 1.88632479e-03 1.86977066e-03 1.81082983e-03\n",
      " 1.77562102e-03 1.74898073e-03 1.65758220e-03 1.63893922e-03\n",
      " 1.61462114e-03 1.55116423e-03 1.47612974e-03 1.43176066e-03\n",
      " 1.42094228e-03 1.41153189e-03 1.40174414e-03 1.35736343e-03\n",
      " 1.33847142e-03 1.32396333e-03 1.30157250e-03 1.25873090e-03\n",
      " 1.22828160e-03 1.21584486e-03 1.17034462e-03 1.14873591e-03\n",
      " 1.13244183e-03 1.10885640e-03 1.09001809e-03 1.06923234e-03\n",
      " 1.04195974e-03 1.04006816e-03 1.01256280e-03 1.00527256e-03\n",
      " 9.84017292e-04 9.49686225e-04 9.41340853e-04 9.16166389e-04\n",
      " 9.07850679e-04 8.96872248e-04 8.65391297e-04 8.55172121e-04\n",
      " 8.45619941e-04 8.22495629e-04 7.91584254e-04 7.85938694e-04\n",
      " 7.84606705e-04 7.68831553e-04 7.64015495e-04 7.53088360e-04\n",
      " 7.36782927e-04 7.27131928e-04 7.19651644e-04 7.06816284e-04\n",
      " 6.95424441e-04 6.92161115e-04 6.83303352e-04 6.74060551e-04\n",
      " 6.66876813e-04 6.45265738e-04 6.35594148e-04 6.31646280e-04\n",
      " 6.22933684e-04 6.05290244e-04 6.03588668e-04 5.94480972e-04\n",
      " 5.88307737e-04 5.86520057e-04 5.81340892e-04 5.76831332e-04\n",
      " 5.65369113e-04 5.54764478e-04 5.35170320e-04 5.25925367e-04\n",
      " 5.25093213e-04 5.10256933e-04 5.02970791e-04 5.01077862e-04\n",
      " 4.98712828e-04 4.91069894e-04 4.85537580e-04 4.82846335e-04\n",
      " 4.74013821e-04 4.68351298e-04 4.66598957e-04 4.63327885e-04\n",
      " 4.59293726e-04 4.50379880e-04 4.48807397e-04 4.42709926e-04\n",
      " 4.36674335e-04 4.27448506e-04 4.24979220e-04 4.22012400e-04\n",
      " 4.15513534e-04 4.09637061e-04 4.00823776e-04 3.97882283e-04\n",
      " 3.94080737e-04 3.90493569e-04 3.85852581e-04 3.79776550e-04\n",
      " 3.78899163e-04 3.73939344e-04 3.69414567e-04 3.65150688e-04\n",
      " 3.63813269e-04 3.59874612e-04 3.54642228e-04 3.52897969e-04\n",
      " 3.47288448e-04 3.45957243e-04 3.41447060e-04 3.37645698e-04\n",
      " 3.37094006e-04 3.30227027e-04 3.28354858e-04 3.25907348e-04\n",
      " 3.22944525e-04 3.21269131e-04 3.17299289e-04 3.16174998e-04\n",
      " 3.10942546e-04 3.09536878e-04 3.05966364e-04 3.03274764e-04\n",
      " 3.02410301e-04 3.01568730e-04 2.96707208e-04 2.95746569e-04\n",
      " 2.93471733e-04 2.92672507e-04 2.87752279e-04 2.84345214e-04\n",
      " 2.81966256e-04 2.79070256e-04 2.75734563e-04 2.72474610e-04\n",
      " 2.69435264e-04 2.67707341e-04 2.65120089e-04 2.64327139e-04\n",
      " 2.61882893e-04 2.59450915e-04 2.58556918e-04 2.56922803e-04\n",
      " 2.54736986e-04 2.52811988e-04 2.52289830e-04 2.49562926e-04\n",
      " 2.48516635e-04 2.46074950e-04 2.43954927e-04 2.41863092e-04\n",
      " 2.40968147e-04 2.40443925e-04 2.38269816e-04 2.36853390e-04\n",
      " 2.32578089e-04 2.31308927e-04 2.30128065e-04 2.28086747e-04\n",
      " 2.27583342e-04 2.22776216e-04 2.21863012e-04 2.20442345e-04\n",
      " 2.17866578e-04 2.16656444e-04 2.15163934e-04 2.14194871e-04\n",
      " 2.12855131e-04 2.10372485e-04 2.09755026e-04 2.06961451e-04\n",
      " 2.04723959e-04 2.04271260e-04 2.01314252e-04 2.00984824e-04\n",
      " 1.98996556e-04 1.97630643e-04 1.95827447e-04 1.93728239e-04\n",
      " 1.92858401e-04 1.91772657e-04 1.91541926e-04 1.89077710e-04\n",
      " 1.88012568e-04 1.86392293e-04 1.85847516e-04 1.84618051e-04\n",
      " 1.83695841e-04 1.83146181e-04 1.81880619e-04 1.79866333e-04\n",
      " 1.77555751e-04 1.76688735e-04 1.75962144e-04 1.73882869e-04\n",
      " 1.73428592e-04 1.72645369e-04 1.71385636e-04 1.70036471e-04\n",
      " 1.69300514e-04 1.68005468e-04 1.66921752e-04 1.66452293e-04\n",
      " 1.64205616e-04 1.63481673e-04 1.62658054e-04 1.61890496e-04\n",
      " 1.60891270e-04 1.59843844e-04 1.58832869e-04 1.57351800e-04\n",
      " 1.56737737e-04 1.54897135e-04 1.53808995e-04 1.53067939e-04\n",
      " 1.52038813e-04 1.50010664e-04 1.49664931e-04 1.48229235e-04\n",
      " 1.47673931e-04 1.46127382e-04 1.44652367e-04 1.43233806e-04\n",
      " 1.42722982e-04 1.42069479e-04 1.41748998e-04 1.40492178e-04\n",
      " 1.38237632e-04 1.37972244e-04 1.36841265e-04 1.35975386e-04\n",
      " 1.35795219e-04 1.34509178e-04 1.33617221e-04 1.32342804e-04\n",
      " 1.30701809e-04 1.30189545e-04 1.29162788e-04 1.28111630e-04\n",
      " 1.27515622e-04 1.27217857e-04 1.26338688e-04 1.25860075e-04\n",
      " 1.24730732e-04 1.23562308e-04 1.22621744e-04 1.21567236e-04\n",
      " 1.21027070e-04 1.19967460e-04 1.19422153e-04 1.18948773e-04\n",
      " 1.17872139e-04 1.17059968e-04 1.16494914e-04 1.16099041e-04\n",
      " 1.14530554e-04 1.14216964e-04 1.12406549e-04 1.11275336e-04\n",
      " 1.10540088e-04 1.10430755e-04 1.10058802e-04 1.08974833e-04\n",
      " 1.08323067e-04 1.07595699e-04 1.07004371e-04 1.06204964e-04\n",
      " 1.05929000e-04 1.05049823e-04 1.03420556e-04 1.02250232e-04\n",
      " 1.02045846e-04 1.00845765e-04 1.00264707e-04 9.95977605e-05\n",
      " 9.93729336e-05 9.81249726e-05 9.75951411e-05 9.68311922e-05\n",
      " 9.55244181e-05 9.45448376e-05 9.37982205e-05 9.37227397e-05\n",
      " 9.24930550e-05 9.15874487e-05 9.13967681e-05 9.06741875e-05\n",
      " 9.00751392e-05 8.93704762e-05 8.91559603e-05 8.82613901e-05\n",
      " 8.73279152e-05 8.63095938e-05 8.55753930e-05 8.51577509e-05\n",
      " 8.46020703e-05 8.33128198e-05 8.29779716e-05 8.24987018e-05\n",
      " 8.19115141e-05 8.10903695e-05 8.09031492e-05 7.96086382e-05\n",
      " 7.94683254e-05 7.86261248e-05 7.80611365e-05 7.74252223e-05\n",
      " 7.65902473e-05 7.58039165e-05 7.46096438e-05 7.38457624e-05\n",
      " 7.35691255e-05 7.28156159e-05 7.27140152e-05 7.20667117e-05\n",
      " 7.14164029e-05 7.08057862e-05 6.96516583e-05 6.92450253e-05\n",
      " 6.82996212e-05 6.79383934e-05 6.70585954e-05 6.62344532e-05\n",
      " 6.52426254e-05 6.42024934e-05 6.37103953e-05 6.34535846e-05\n",
      " 6.20327598e-05 6.12865889e-05 6.03190242e-05 5.99282849e-05\n",
      " 5.93680428e-05 5.87299046e-05 5.86206850e-05 5.73862150e-05\n",
      " 5.67253974e-05 5.63738152e-05 5.56164907e-05 5.49012889e-05\n",
      " 5.47388158e-05 5.44730018e-05 5.33301511e-05 5.27555986e-05\n",
      " 5.25476883e-05 5.21982374e-05 5.18520830e-05 5.10148872e-05\n",
      " 5.03810394e-05 4.97554267e-05 4.90673847e-05 4.87008240e-05\n",
      " 4.79421696e-05 4.72082305e-05 4.66606937e-05 4.64426143e-05\n",
      " 4.56015927e-05 4.49094253e-05 4.37134777e-05 4.29265351e-05\n",
      " 4.26090033e-05 4.23856134e-05 4.21742379e-05 4.17847347e-05\n",
      " 4.13870352e-05 4.08461816e-05 4.02868464e-05 3.85887427e-05\n",
      " 3.82519973e-05 3.81418940e-05 3.78838376e-05 3.73238173e-05\n",
      " 3.70742452e-05 3.65901716e-05 3.57648817e-05 3.53579530e-05\n",
      " 3.52531035e-05 3.48699976e-05 3.45505624e-05 3.43835708e-05\n",
      " 3.34025597e-05 3.29991797e-05 3.21984785e-05 3.19393529e-05\n",
      " 3.16408099e-05 3.10130586e-05 3.04092309e-05 3.01560244e-05\n",
      " 2.99062221e-05 2.92128492e-05 2.88664671e-05 2.85184511e-05\n",
      " 2.80650709e-05 2.79074006e-05 2.75173214e-05 2.69453276e-05\n",
      " 2.57726430e-05 2.52920635e-05 2.51629710e-05 2.48282597e-05\n",
      " 2.46875635e-05 2.43564637e-05 2.43141230e-05 2.42490170e-05\n",
      " 2.37258154e-05 2.33513419e-05 2.32170821e-05 2.25184055e-05\n",
      " 2.23652234e-05 2.21184484e-05 2.14323856e-05 2.12954548e-05\n",
      " 2.10673717e-05 2.08562653e-05 2.03771092e-05 2.00897381e-05\n",
      " 1.98644931e-05 1.96245262e-05 1.95146780e-05 1.89596250e-05\n",
      " 1.84494831e-05 1.81866082e-05 1.81024894e-05 1.79573312e-05\n",
      " 1.75884221e-05 1.74099542e-05 1.63583601e-05 1.61730953e-05\n",
      " 1.61083699e-05 1.59039392e-05 1.55391050e-05 1.52059429e-05\n",
      " 1.51670398e-05 1.49795143e-05 1.47584710e-05 1.45782846e-05\n",
      " 1.43546720e-05 1.41770774e-05 1.39621442e-05 1.37897203e-05\n",
      " 1.36745723e-05 1.33331346e-05 1.31039439e-05 1.25487316e-05\n",
      " 1.23813543e-05 1.21852824e-05 1.20015454e-05 1.19125571e-05\n",
      " 1.17766171e-05 1.17307444e-05 1.13788115e-05 1.13168482e-05\n",
      " 1.12463625e-05 1.10026093e-05 1.09370277e-05 1.05700730e-05\n",
      " 1.05384042e-05 1.02320303e-05 1.00219171e-05 9.57486478e-06\n",
      " 9.37248288e-06 9.26034546e-06 9.22225544e-06 8.87165402e-06\n",
      " 8.80979910e-06 8.59229313e-06 8.16018534e-06 7.96991273e-06\n",
      " 7.86719136e-06 7.73393838e-06 7.64388821e-06 7.57753356e-06\n",
      " 7.53194476e-06 7.36860975e-06 7.26920880e-06 7.14866366e-06\n",
      " 6.96162486e-06 6.88111732e-06 6.71536305e-06 6.65581596e-06\n",
      " 6.53801172e-06 6.47011389e-06 6.13990338e-06 5.92738988e-06\n",
      " 5.72723565e-06 5.67724390e-06 5.55498087e-06 5.34937972e-06\n",
      " 5.27072988e-06 5.18255272e-06 5.03922367e-06 4.99553423e-06\n",
      " 4.93269115e-06 4.90087635e-06 4.81064307e-06 4.69601479e-06\n",
      " 4.62328837e-06 4.55458565e-06 4.19828463e-06 4.18489825e-06\n",
      " 4.01272873e-06 4.00155559e-06 3.94513313e-06 3.79975408e-06\n",
      " 3.78085481e-06 3.31217786e-06 3.23787690e-06 3.21258771e-06\n",
      " 3.17519283e-06 3.11957944e-06 3.08216368e-06 3.02581820e-06\n",
      " 3.01214170e-06 2.97070334e-06 2.95593377e-06 2.92458383e-06\n",
      " 2.80376962e-06 2.62845546e-06 2.54993592e-06 2.36170379e-06\n",
      " 2.31546867e-06 2.26296354e-06 2.24474766e-06 2.20769129e-06\n",
      " 2.15115435e-06 2.14663843e-06 2.10203952e-06 2.04177083e-06\n",
      " 1.87914891e-06 1.86506271e-06 1.85219840e-06 1.84445913e-06\n",
      " 1.80037033e-06 1.75433067e-06 1.61843679e-06 1.60540711e-06\n",
      " 1.50347255e-06 1.46105778e-06 1.41330259e-06 1.38834867e-06\n",
      " 1.31820430e-06 1.30323938e-06 1.28464610e-06 1.24683888e-06\n",
      " 1.11920325e-06 1.07840610e-06 1.04794936e-06 1.04158261e-06\n",
      " 1.03574809e-06 9.81224309e-07 9.66405113e-07 9.34492710e-07\n",
      " 9.15745557e-07 9.09785238e-07 8.99058997e-07 8.75386886e-07\n",
      " 8.33145790e-07 7.76131320e-07 7.44965020e-07 7.21840007e-07\n",
      " 6.66633877e-07 6.59729865e-07 6.36906952e-07 6.25560617e-07\n",
      " 6.25377870e-07 5.90925753e-07 5.82886091e-07 5.66883164e-07\n",
      " 5.60965347e-07 5.28215209e-07 5.22247837e-07 4.77481341e-07\n",
      " 4.71665542e-07 4.66136305e-07 4.32275403e-07 4.20436879e-07\n",
      " 4.06474129e-07 3.83887717e-07 3.62130016e-07 3.56661921e-07\n",
      " 3.12316550e-07 2.96830796e-07 2.78415077e-07 2.72680754e-07\n",
      " 2.57484964e-07 2.55549537e-07 2.41288092e-07 2.35705750e-07\n",
      " 2.29940877e-07 2.25352225e-07 2.14995493e-07 2.02536197e-07\n",
      " 2.01439948e-07 1.96168276e-07 1.76740352e-07 1.71228701e-07\n",
      " 1.50993460e-07 1.49718287e-07 1.36601233e-07 1.35304595e-07\n",
      " 1.28053838e-07 1.07049722e-07 9.44896396e-08 8.78391852e-08\n",
      " 8.32650491e-08 8.16810203e-08 6.84887549e-08 6.72368773e-08\n",
      " 6.42105724e-08 5.95888733e-08 5.54025899e-08 4.66118024e-08\n",
      " 4.59353843e-08 4.06522658e-08 3.93584037e-08 3.60455630e-08\n",
      " 3.56938164e-08 3.24021678e-08 3.08761304e-08 3.00483077e-08\n",
      " 2.89071625e-08 2.40250554e-08 1.88466245e-08 1.77257929e-08\n",
      " 1.66299011e-08 1.62047448e-08 1.11501446e-08 1.03068085e-08\n",
      " 1.00984193e-08 8.64471220e-09 7.95800335e-09 6.91637185e-09\n",
      " 6.88523861e-09 5.43217033e-09 4.96586188e-09 3.69822162e-09\n",
      " 3.02034593e-09 1.94007789e-09 8.67383731e-10 7.08189189e-10\n",
      " 6.92261257e-10 2.53506429e-10 2.36219381e-10 1.53059748e-11\n",
      " 1.91604379e-32 6.15083966e-33 4.64380677e-33 2.97324208e-33\n",
      " 2.93712569e-33 1.99142438e-33 1.86128847e-33 1.47945990e-33\n",
      " 1.22869794e-33 1.17830328e-33 8.88959658e-34 6.34163960e-34\n",
      " 6.32906730e-34 3.71868324e-34 3.49747693e-34 3.49747693e-34\n",
      " 3.49747693e-34 3.49747693e-34 3.49747693e-34 3.49747693e-34\n",
      " 3.49747693e-34 3.49747693e-34 3.49747693e-34 3.49747693e-34\n",
      " 3.49747693e-34 3.49747693e-34 3.49747693e-34 3.49747693e-34\n",
      " 3.49747693e-34 3.49747693e-34 3.49747693e-34 3.49747693e-34\n",
      " 3.49747693e-34 3.49747693e-34 3.49747693e-34 3.49747693e-34\n",
      " 3.49747693e-34 3.49747693e-34 3.49747693e-34 3.49747693e-34\n",
      " 3.49747693e-34 3.49747693e-34 3.49747693e-34 3.49747693e-34\n",
      " 3.49747693e-34 3.49747693e-34 3.49747693e-34 3.49747693e-34\n",
      " 3.49747693e-34 3.49747693e-34 3.49747693e-34 3.49747693e-34\n",
      " 3.49747693e-34 3.49747693e-34 3.49747693e-34 3.49747693e-34\n",
      " 3.49747693e-34 3.49747693e-34 3.49747693e-34 3.49747693e-34\n",
      " 3.49747693e-34 3.49747693e-34 3.49747693e-34 3.49747693e-34\n",
      " 3.49747693e-34 3.49747693e-34 3.49747693e-34 3.43446199e-34\n",
      " 2.34721959e-34 7.51589542e-35 4.75241276e-35 4.58246308e-36]\n",
      "[5.11687301e+00 3.74139084e+00 3.25270845e+00 2.84162070e+00\n",
      " 2.56711774e+00 2.27366339e+00 1.72515498e+00 1.52056024e+00\n",
      " 1.45630525e+00 1.24275009e+00 1.11208951e+00 1.06664054e+00\n",
      " 9.04680833e-01 8.92181223e-01 8.32353048e-01 7.81900323e-01\n",
      " 6.98386871e-01 6.73255811e-01 6.25995240e-01 6.07763020e-01\n",
      " 5.62145880e-01 5.30798829e-01 5.02780255e-01 4.81147033e-01\n",
      " 4.65783200e-01 4.42538691e-01 4.28439606e-01 4.14618707e-01\n",
      " 3.92667337e-01 3.64261791e-01 3.46985958e-01 3.41741890e-01\n",
      " 3.17734284e-01 3.09280821e-01 3.00549034e-01 2.86632712e-01\n",
      " 2.66680512e-01 2.57227909e-01 2.53838022e-01 2.49006738e-01\n",
      " 2.40823990e-01 2.34543854e-01 2.20658652e-01 2.09962678e-01\n",
      " 2.02981381e-01 1.97776690e-01 1.90872477e-01 1.85379715e-01\n",
      " 1.79298798e-01 1.69711256e-01 1.68204657e-01 1.64929264e-01\n",
      " 1.56059568e-01 1.52353954e-01 1.49810350e-01 1.43117013e-01\n",
      " 1.42107650e-01 1.36282013e-01 1.33802866e-01 1.29062999e-01\n",
      " 1.26809057e-01 1.26153552e-01 1.21484982e-01 1.16804842e-01\n",
      " 1.12686254e-01 1.09261402e-01 1.07056105e-01 1.03755433e-01\n",
      " 1.01683293e-01 9.94581989e-02 9.85853673e-02 9.54776582e-02\n",
      " 9.36212414e-02 9.22166080e-02 8.73975368e-02 8.64145688e-02\n",
      " 8.51323757e-02 8.17865524e-02 7.78302901e-02 7.54908896e-02\n",
      " 7.49204806e-02 7.44243097e-02 7.39082416e-02 7.15682278e-02\n",
      " 7.05721295e-02 6.98071773e-02 6.86266001e-02 6.63677373e-02\n",
      " 6.47622702e-02 6.41065317e-02 6.17074900e-02 6.05681508e-02\n",
      " 5.97090309e-02 5.84654674e-02 5.74722004e-02 5.63762527e-02\n",
      " 5.49382802e-02 5.48385444e-02 5.33882994e-02 5.30039149e-02\n",
      " 5.18832114e-02 5.00730745e-02 4.96330571e-02 4.83057105e-02\n",
      " 4.78672571e-02 4.72884093e-02 4.56285473e-02 4.50897319e-02\n",
      " 4.45860845e-02 4.33668340e-02 4.17370035e-02 4.14393362e-02\n",
      " 4.13691058e-02 4.05373465e-02 4.02834155e-02 3.97072723e-02\n",
      " 3.88475534e-02 3.83386957e-02 3.79442909e-02 3.72675348e-02\n",
      " 3.66668894e-02 3.64948276e-02 3.60277940e-02 3.55404588e-02\n",
      " 3.51616897e-02 3.40222260e-02 3.35122826e-02 3.33041276e-02\n",
      " 3.28447480e-02 3.19144815e-02 3.18247644e-02 3.13445527e-02\n",
      " 3.10190633e-02 3.09248062e-02 3.06517300e-02 3.04139593e-02\n",
      " 2.98096034e-02 2.92504643e-02 2.82173444e-02 2.77298958e-02\n",
      " 2.76860197e-02 2.69037633e-02 2.65195948e-02 2.64197884e-02\n",
      " 2.62950898e-02 2.58921091e-02 2.56004128e-02 2.54585145e-02\n",
      " 2.49928121e-02 2.46942504e-02 2.46018566e-02 2.44293863e-02\n",
      " 2.42166816e-02 2.37466909e-02 2.36637803e-02 2.33422856e-02\n",
      " 2.30240536e-02 2.25376133e-02 2.24074179e-02 2.22509896e-02\n",
      " 2.19083310e-02 2.15984885e-02 2.11338000e-02 2.09787071e-02\n",
      " 2.07782672e-02 2.05891304e-02 2.03444301e-02 2.00240658e-02\n",
      " 1.99778048e-02 1.97162938e-02 1.94777208e-02 1.92529039e-02\n",
      " 1.91823872e-02 1.89747180e-02 1.86988357e-02 1.86068681e-02\n",
      " 1.83111009e-02 1.82409119e-02 1.80031084e-02 1.78026781e-02\n",
      " 1.77735897e-02 1.74115219e-02 1.73128101e-02 1.71837629e-02\n",
      " 1.70275453e-02 1.69392087e-02 1.67298951e-02 1.66706158e-02\n",
      " 1.63947300e-02 1.63206149e-02 1.61323563e-02 1.59904392e-02\n",
      " 1.59448596e-02 1.59004870e-02 1.56441588e-02 1.55935082e-02\n",
      " 1.54735654e-02 1.54314255e-02 1.51720020e-02 1.49923614e-02\n",
      " 1.48669286e-02 1.47142344e-02 1.45383569e-02 1.43664729e-02\n",
      " 1.42062206e-02 1.41151143e-02 1.39786991e-02 1.39368901e-02\n",
      " 1.38080150e-02 1.36797867e-02 1.36326499e-02 1.35464897e-02\n",
      " 1.34312405e-02 1.33297432e-02 1.33022120e-02 1.31584335e-02\n",
      " 1.31032668e-02 1.29745267e-02 1.28627466e-02 1.27524526e-02\n",
      " 1.27052659e-02 1.26776258e-02 1.25629939e-02 1.24883116e-02\n",
      " 1.22628924e-02 1.21959746e-02 1.21337126e-02 1.20260823e-02\n",
      " 1.19995398e-02 1.17460796e-02 1.16979301e-02 1.16230242e-02\n",
      " 1.14872145e-02 1.14234091e-02 1.13447151e-02 1.12936204e-02\n",
      " 1.12229814e-02 1.10920816e-02 1.10595255e-02 1.09122317e-02\n",
      " 1.07942579e-02 1.07703889e-02 1.06144780e-02 1.05971086e-02\n",
      " 1.04922754e-02 1.04202563e-02 1.03251812e-02 1.02144985e-02\n",
      " 1.01686355e-02 1.01113887e-02 1.00992232e-02 9.96929513e-03\n",
      " 9.91313454e-03 9.82770405e-03 9.79898017e-03 9.73415551e-03\n",
      " 9.68553118e-03 9.65654982e-03 9.58982192e-03 9.48361683e-03\n",
      " 9.36178930e-03 9.31607507e-03 9.27776490e-03 9.16813326e-03\n",
      " 9.14418106e-03 9.10288490e-03 9.03646433e-03 8.96532840e-03\n",
      " 8.92652439e-03 8.85824192e-03 8.80110198e-03 8.77634932e-03\n",
      " 8.65789124e-03 8.61972068e-03 8.57629462e-03 8.53582444e-03\n",
      " 8.48313933e-03 8.42791280e-03 8.37460824e-03 8.29651753e-03\n",
      " 8.26414047e-03 8.16709307e-03 8.10971986e-03 8.07064703e-03\n",
      " 8.01638541e-03 7.90944942e-03 7.89122034e-03 7.81552191e-03\n",
      " 7.78624303e-03 7.70469980e-03 7.62692828e-03 7.55213340e-03\n",
      " 7.52519971e-03 7.49074316e-03 7.47384551e-03 7.40757855e-03\n",
      " 7.28870554e-03 7.27471268e-03 7.21508080e-03 7.16942654e-03\n",
      " 7.15992706e-03 7.09211939e-03 7.04509011e-03 6.97789533e-03\n",
      " 6.89137237e-03 6.86436281e-03 6.81022609e-03 6.75480283e-03\n",
      " 6.72337776e-03 6.70767779e-03 6.66132284e-03 6.63608750e-03\n",
      " 6.57654190e-03 6.51493565e-03 6.46534355e-03 6.40974367e-03\n",
      " 6.38126294e-03 6.32539400e-03 6.29664221e-03 6.27168280e-03\n",
      " 6.21491630e-03 6.17209384e-03 6.14230087e-03 6.12142810e-03\n",
      " 6.03872818e-03 6.02219383e-03 5.92673807e-03 5.86709381e-03\n",
      " 5.82832719e-03 5.82256253e-03 5.80295098e-03 5.74579771e-03\n",
      " 5.71143276e-03 5.67308162e-03 5.64190327e-03 5.59975384e-03\n",
      " 5.58520337e-03 5.53884795e-03 5.45294336e-03 5.39123697e-03\n",
      " 5.38046055e-03 5.31718516e-03 5.28654834e-03 5.25138298e-03\n",
      " 5.23952877e-03 5.17372889e-03 5.14579304e-03 5.10551314e-03\n",
      " 5.03661228e-03 4.98496300e-03 4.94559693e-03 4.94161714e-03\n",
      " 4.87678089e-03 4.82903197e-03 4.81897816e-03 4.78087944e-03\n",
      " 4.74929407e-03 4.71214007e-03 4.70082952e-03 4.65366248e-03\n",
      " 4.60444417e-03 4.55075224e-03 4.51204083e-03 4.49002027e-03\n",
      " 4.46072151e-03 4.39274460e-03 4.37508942e-03 4.34981948e-03\n",
      " 4.31885947e-03 4.27556387e-03 4.26569251e-03 4.19743823e-03\n",
      " 4.19004011e-03 4.14563432e-03 4.11584479e-03 4.08231563e-03\n",
      " 4.03829081e-03 3.99683080e-03 3.93386168e-03 3.89358534e-03\n",
      " 3.87899940e-03 3.83926992e-03 3.83391293e-03 3.79978326e-03\n",
      " 3.76549514e-03 3.73329981e-03 3.67244737e-03 3.65100727e-03\n",
      " 3.60115997e-03 3.58211391e-03 3.53572575e-03 3.49227210e-03\n",
      " 3.43997707e-03 3.38513516e-03 3.35918884e-03 3.34564826e-03\n",
      " 3.27073398e-03 3.23139143e-03 3.18037570e-03 3.15977361e-03\n",
      " 3.13023433e-03 3.09658791e-03 3.09082921e-03 3.02574065e-03\n",
      " 2.99089844e-03 2.97236094e-03 2.93243032e-03 2.89472065e-03\n",
      " 2.88615411e-03 2.87213882e-03 2.81188097e-03 2.78158717e-03\n",
      " 2.77062491e-03 2.75219979e-03 2.73394848e-03 2.68980657e-03\n",
      " 2.65638636e-03 2.62340036e-03 2.58712272e-03 2.56779547e-03\n",
      " 2.52779472e-03 2.48909712e-03 2.46022774e-03 2.44872930e-03\n",
      " 2.40438567e-03 2.36789051e-03 2.30483308e-03 2.26334081e-03\n",
      " 2.24659865e-03 2.23482022e-03 2.22367525e-03 2.20313834e-03\n",
      " 2.18216927e-03 2.15365227e-03 2.12416081e-03 2.03462674e-03\n",
      " 2.01687153e-03 2.01106624e-03 1.99745997e-03 1.96793239e-03\n",
      " 1.95477347e-03 1.92925025e-03 1.88573609e-03 1.86428040e-03\n",
      " 1.85875211e-03 1.83855250e-03 1.82170999e-03 1.81290521e-03\n",
      " 1.76118050e-03 1.73991192e-03 1.69769422e-03 1.68403158e-03\n",
      " 1.66829063e-03 1.63519187e-03 1.60335450e-03 1.59000395e-03\n",
      " 1.57683290e-03 1.54027418e-03 1.52201087e-03 1.50366141e-03\n",
      " 1.47975652e-03 1.47144321e-03 1.45087593e-03 1.42071704e-03\n",
      " 1.35888616e-03 1.33354717e-03 1.32674065e-03 1.30909269e-03\n",
      " 1.30167435e-03 1.28421681e-03 1.28198436e-03 1.27855159e-03\n",
      " 1.25096531e-03 1.23122085e-03 1.22414188e-03 1.18730352e-03\n",
      " 1.17922685e-03 1.16621541e-03 1.13004213e-03 1.12282232e-03\n",
      " 1.11079643e-03 1.09966566e-03 1.07440172e-03 1.05924981e-03\n",
      " 1.04737356e-03 1.03472109e-03 1.02892924e-03 9.99663562e-04\n",
      " 9.72765864e-04 9.58905544e-04 9.54470305e-04 9.46816707e-04\n",
      " 9.27365633e-04 9.17955755e-04 8.62509493e-04 8.52741237e-04\n",
      " 8.49328531e-04 8.38549736e-04 8.19313519e-04 8.01747244e-04\n",
      " 7.99696040e-04 7.89808588e-04 7.78153878e-04 7.68653387e-04\n",
      " 7.56863207e-04 7.47499366e-04 7.36166815e-04 7.27075610e-04\n",
      " 7.21004328e-04 7.03001713e-04 6.90917423e-04 6.61643349e-04\n",
      " 6.52818226e-04 6.42480153e-04 6.32792454e-04 6.28100465e-04\n",
      " 6.20932904e-04 6.18514223e-04 5.99958239e-04 5.96691170e-04\n",
      " 5.92974746e-04 5.80122634e-04 5.76664786e-04 5.57316763e-04\n",
      " 5.55646995e-04 5.39493151e-04 5.28414744e-04 5.04843499e-04\n",
      " 4.94172729e-04 4.88260181e-04 4.86251850e-04 4.67766069e-04\n",
      " 4.64504712e-04 4.53036511e-04 4.30253233e-04 4.20220935e-04\n",
      " 4.14804857e-04 4.07778972e-04 4.03030994e-04 3.99532385e-04\n",
      " 3.97128673e-04 3.88516686e-04 3.83275680e-04 3.76919827e-04\n",
      " 3.67058035e-04 3.62813202e-04 3.54073656e-04 3.50933982e-04\n",
      " 3.44722646e-04 3.41142670e-04 3.23732019e-04 3.12527051e-04\n",
      " 3.01973736e-04 2.99337875e-04 2.92891445e-04 2.82050936e-04\n",
      " 2.77904052e-04 2.73254830e-04 2.65697675e-04 2.63394110e-04\n",
      " 2.60080650e-04 2.58403186e-04 2.53645554e-04 2.47601673e-04\n",
      " 2.43767106e-04 2.40144693e-04 2.21358395e-04 2.20652586e-04\n",
      " 2.11574791e-04 2.10985677e-04 2.08010751e-04 2.00345508e-04\n",
      " 1.99349027e-04 1.74637606e-04 1.70720020e-04 1.69386624e-04\n",
      " 1.67414945e-04 1.64482678e-04 1.62509898e-04 1.59539031e-04\n",
      " 1.58817925e-04 1.56633050e-04 1.55854310e-04 1.54201356e-04\n",
      " 1.47831317e-04 1.38587717e-04 1.34447703e-04 1.24522991e-04\n",
      " 1.22085202e-04 1.19316821e-04 1.18356373e-04 1.16402541e-04\n",
      " 1.13421580e-04 1.13183474e-04 1.10831956e-04 1.07654234e-04\n",
      " 9.90798442e-05 9.83371367e-05 9.76588542e-05 9.72507939e-05\n",
      " 9.49261716e-05 9.24986883e-05 8.53335594e-05 8.46465576e-05\n",
      " 7.92719649e-05 7.70356073e-05 7.45176712e-05 7.32019528e-05\n",
      " 6.95035268e-05 6.87144878e-05 6.77341403e-05 6.57407200e-05\n",
      " 5.90110143e-05 5.68599474e-05 5.52540880e-05 5.49183956e-05\n",
      " 5.46107652e-05 5.17359488e-05 5.09545931e-05 4.92719825e-05\n",
      " 4.82835217e-05 4.79692584e-05 4.74037076e-05 4.61555739e-05\n",
      " 4.39283735e-05 4.09222334e-05 3.92789618e-05 3.80596743e-05\n",
      " 3.51488807e-05 3.47848603e-05 3.35815014e-05 3.29832555e-05\n",
      " 3.29736199e-05 3.11571006e-05 3.07332021e-05 2.98894331e-05\n",
      " 2.95774108e-05 2.78506298e-05 2.75359947e-05 2.51756402e-05\n",
      " 2.48689969e-05 2.45774628e-05 2.27921158e-05 2.21679188e-05\n",
      " 2.14317201e-05 2.02408309e-05 1.90936362e-05 1.88053259e-05\n",
      " 1.64671757e-05 1.56506751e-05 1.46796895e-05 1.43773421e-05\n",
      " 1.35761302e-05 1.34740830e-05 1.27221352e-05 1.24278011e-05\n",
      " 1.21238430e-05 1.18819021e-05 1.13358339e-05 1.06789062e-05\n",
      " 1.06211054e-05 1.03431517e-05 9.31879666e-06 9.02818979e-06\n",
      " 7.96126820e-06 7.89403356e-06 7.20242488e-06 7.13405847e-06\n",
      " 6.75175570e-06 5.64429445e-06 4.98205264e-06 4.63140134e-06\n",
      " 4.39022584e-06 4.30670647e-06 3.61113222e-06 3.54512583e-06\n",
      " 3.38556114e-06 3.14187782e-06 2.92115220e-06 2.45764990e-06\n",
      " 2.42198513e-06 2.14342788e-06 2.07520782e-06 1.90053527e-06\n",
      " 1.88198911e-06 1.70843392e-06 1.62797221e-06 1.58432450e-06\n",
      " 1.52415657e-06 1.26674301e-06 9.93705509e-07 9.34608638e-07\n",
      " 8.76826740e-07 8.54409983e-07 5.87901568e-07 5.43435900e-07\n",
      " 5.32448391e-07 4.55800354e-07 4.19593002e-07 3.64672029e-07\n",
      " 3.63030501e-07 2.86416147e-07 2.61829607e-07 1.94992116e-07\n",
      " 1.59250500e-07 1.02292380e-07 4.57336002e-08 3.73399225e-08\n",
      " 3.65001077e-08 1.33663582e-08 1.24548828e-08 8.07021515e-10\n",
      " 1.01025161e-30 3.24308645e-31 2.44848958e-31 1.56766907e-31\n",
      " 1.54862637e-31 1.04999671e-31 9.81381360e-32 7.80058759e-32\n",
      " 6.47842224e-32 6.21271179e-32 4.68712107e-32 3.34368746e-32\n",
      " 3.33705860e-32 1.96070973e-32 1.84407669e-32 1.84407669e-32\n",
      " 1.84407669e-32 1.84407669e-32 1.84407669e-32 1.84407669e-32\n",
      " 1.84407669e-32 1.84407669e-32 1.84407669e-32 1.84407669e-32\n",
      " 1.84407669e-32 1.84407669e-32 1.84407669e-32 1.84407669e-32\n",
      " 1.84407669e-32 1.84407669e-32 1.84407669e-32 1.84407669e-32\n",
      " 1.84407669e-32 1.84407669e-32 1.84407669e-32 1.84407669e-32\n",
      " 1.84407669e-32 1.84407669e-32 1.84407669e-32 1.84407669e-32\n",
      " 1.84407669e-32 1.84407669e-32 1.84407669e-32 1.84407669e-32\n",
      " 1.84407669e-32 1.84407669e-32 1.84407669e-32 1.84407669e-32\n",
      " 1.84407669e-32 1.84407669e-32 1.84407669e-32 1.84407669e-32\n",
      " 1.84407669e-32 1.84407669e-32 1.84407669e-32 1.84407669e-32\n",
      " 1.84407669e-32 1.84407669e-32 1.84407669e-32 1.84407669e-32\n",
      " 1.84407669e-32 1.84407669e-32 1.84407669e-32 1.84407669e-32\n",
      " 1.84407669e-32 1.84407669e-32 1.84407669e-32 1.81085149e-32\n",
      " 1.23759299e-32 3.96282458e-33 2.50575308e-33 2.41614556e-34]\n"
     ]
    }
   ],
   "source": [
    "from sklearn.decomposition import PCA\n",
    "import numpy as np\n",
    "pca = PCA()\n",
    "pca.fit(X_train)\n",
    "pcs = pca.components_\n",
    "\n",
    "print(\"Nombre de composants :\", pca.n_components_)\n",
    "print(pcs)\n",
    "print(pca.explained_variance_ratio_)\n",
    "print(pca.explained_variance_)"
   ]
  },
  {
   "cell_type": "code",
   "execution_count": 13,
   "metadata": {},
   "outputs": [
    {
     "data": {
      "text/plain": [
       "[Text(0, 0.5, '% cumulé de la variance expliquée'),\n",
       " Text(0.5, 0, 'Composante principale'),\n",
       " Text(0.5, 1.0, 'PCA Scree Plot')]"
      ]
     },
     "execution_count": 13,
     "metadata": {},
     "output_type": "execute_result"
    },
    {
     "data": {
      "image/png": "[encoded data removed]",
      "text/plain": [
       "<Figure size 2160x1080 with 3 Axes>"
      ]
     },
     "metadata": {
      "needs_background": "light"
     },
     "output_type": "display_data"
    }
   ],
   "source": [
    "fig, ax = plt.subplots(1,3, figsize=(30,15))\n",
    "\n",
    "percent_variance = np.round(pca.explained_variance_ratio_* 100, decimals =2)\n",
    "columns = [f'PC{i}' for i in range(1,pca.explained_variance_ratio_.size+1)]\n",
    "ax[0].bar(x= range(1,pca.explained_variance_ratio_.size+1), height=percent_variance, tick_label=columns)\n",
    "ax[0].set(title='PCA Scree Plot', ylabel='Pourcentage de la variance expliquée', xlabel='Composante principale')\n",
    "\n",
    "ax[1].bar(x= range(1,pca.explained_variance_.size+1), height=pca.explained_variance_, tick_label=columns)\n",
    "ax[1].set(title='PCA Scree Plot', ylabel='Valeurs de la variance expliquée', xlabel='Composante principale')\n",
    "\n",
    "ax[2].bar(x= range(1,pca.explained_variance_.size+1), height=np.cumsum(pca.explained_variance_ratio_*100), tick_label=columns)\n",
    "ax[2].set(title='PCA Scree Plot', ylabel='% cumulé de la variance expliquée', xlabel='Composante principale')"
   ]
  },
  {
   "cell_type": "code",
   "execution_count": 14,
   "metadata": {},
   "outputs": [
    {
     "data": {
      "image/png": "[encoded data removed]",
      "text/plain": [
       "<Figure size 2160x1080 with 1 Axes>"
      ]
     },
     "metadata": {
      "needs_background": "light"
     },
     "output_type": "display_data"
    }
   ],
   "source": [
    "# variance expliquée\n",
    "plt.figure(figsize=(30,15))\n",
    "plt.plot(np.cumsum(pca.explained_variance_ratio_))\n",
    "plt.xlabel('number of components')\n",
    "plt.ylabel('cumulative explained variance')\n",
    "plt.show()"
   ]
  },
  {
   "cell_type": "markdown",
   "metadata": {},
   "source": [
    "Les 50 premières composantes expliquent 80% de la variance."
   ]
  },
  {
   "cell_type": "code",
   "execution_count": 15,
   "metadata": {},
   "outputs": [
    {
     "name": "stdout",
     "output_type": "stream",
     "text": [
      "Composantes / Vecteurs propres :\n",
      "[[ 7.11139123e-18  1.02251345e-18 -6.53470897e-19 ...  0.00000000e+00\n",
      "   0.00000000e+00  0.00000000e+00]\n",
      " [ 5.93812644e-17  1.79577738e-18 -2.28304522e-18 ... -0.00000000e+00\n",
      "  -0.00000000e+00 -0.00000000e+00]]\n",
      "Valeurs propres :\n",
      "[5.11687301 3.74139082]\n"
     ]
    },
    {
     "data": {
      "text/html": [
       "<div>\n",
       "<style scoped>\n",
       "    .dataframe tbody tr th:only-of-type {\n",
       "        vertical-align: middle;\n",
       "    }\n",
       "\n",
       "    .dataframe tbody tr th {\n",
       "        vertical-align: top;\n",
       "    }\n",
       "\n",
       "    .dataframe thead th {\n",
       "        text-align: right;\n",
       "    }\n",
       "</style>\n",
       "<table border=\"1\" class=\"dataframe\">\n",
       "  <thead>\n",
       "    <tr style=\"text-align: right;\">\n",
       "      <th></th>\n",
       "      <th>PC1</th>\n",
       "      <th>PC2</th>\n",
       "    </tr>\n",
       "  </thead>\n",
       "  <tbody>\n",
       "    <tr>\n",
       "      <th>0</th>\n",
       "      <td>7.111391e-18</td>\n",
       "      <td>5.938126e-17</td>\n",
       "    </tr>\n",
       "    <tr>\n",
       "      <th>1</th>\n",
       "      <td>1.022513e-18</td>\n",
       "      <td>1.795777e-18</td>\n",
       "    </tr>\n",
       "    <tr>\n",
       "      <th>2</th>\n",
       "      <td>-6.534709e-19</td>\n",
       "      <td>-2.283045e-18</td>\n",
       "    </tr>\n",
       "    <tr>\n",
       "      <th>3</th>\n",
       "      <td>4.663948e-19</td>\n",
       "      <td>5.646816e-18</td>\n",
       "    </tr>\n",
       "    <tr>\n",
       "      <th>4</th>\n",
       "      <td>-1.535101e-20</td>\n",
       "      <td>-1.594023e-19</td>\n",
       "    </tr>\n",
       "    <tr>\n",
       "      <th>...</th>\n",
       "      <td>...</td>\n",
       "      <td>...</td>\n",
       "    </tr>\n",
       "    <tr>\n",
       "      <th>779</th>\n",
       "      <td>1.378480e-07</td>\n",
       "      <td>2.223512e-06</td>\n",
       "    </tr>\n",
       "    <tr>\n",
       "      <th>780</th>\n",
       "      <td>0.000000e+00</td>\n",
       "      <td>-0.000000e+00</td>\n",
       "    </tr>\n",
       "    <tr>\n",
       "      <th>781</th>\n",
       "      <td>0.000000e+00</td>\n",
       "      <td>-0.000000e+00</td>\n",
       "    </tr>\n",
       "    <tr>\n",
       "      <th>782</th>\n",
       "      <td>0.000000e+00</td>\n",
       "      <td>-0.000000e+00</td>\n",
       "    </tr>\n",
       "    <tr>\n",
       "      <th>783</th>\n",
       "      <td>0.000000e+00</td>\n",
       "      <td>-0.000000e+00</td>\n",
       "    </tr>\n",
       "  </tbody>\n",
       "</table>\n",
       "<p>784 rows × 2 columns</p>\n",
       "</div>"
      ],
      "text/plain": [
       "              PC1           PC2\n",
       "0    7.111391e-18  5.938126e-17\n",
       "1    1.022513e-18  1.795777e-18\n",
       "2   -6.534709e-19 -2.283045e-18\n",
       "3    4.663948e-19  5.646816e-18\n",
       "4   -1.535101e-20 -1.594023e-19\n",
       "..            ...           ...\n",
       "779  1.378480e-07  2.223512e-06\n",
       "780  0.000000e+00 -0.000000e+00\n",
       "781  0.000000e+00 -0.000000e+00\n",
       "782  0.000000e+00 -0.000000e+00\n",
       "783  0.000000e+00 -0.000000e+00\n",
       "\n",
       "[784 rows x 2 columns]"
      ]
     },
     "execution_count": 15,
     "metadata": {},
     "output_type": "execute_result"
    }
   ],
   "source": [
    "import pandas as pd\n",
    "pca2 = PCA(n_components=2)\n",
    "\n",
    "pca2.fit(X_train)\n",
    "\n",
    "X_transform = pca2.fit_transform(X_train)\n",
    "\n",
    "print(\"Composantes / Vecteurs propres :\")\n",
    "print(pca2.components_)\n",
    "print(\"Valeurs propres :\")\n",
    "print(pca2.explained_variance_)\n",
    "\n",
    "pca_df = pd.DataFrame(pca2.components_.T, columns=['PC1', 'PC2'])\n",
    "pca_df"
   ]
  },
  {
   "cell_type": "code",
   "execution_count": 16,
   "metadata": {},
   "outputs": [
    {
     "data": {
      "text/plain": [
       "Text(0.5, 1.0, 'Plan factoriel PC1/PC2')"
      ]
     },
     "execution_count": 16,
     "metadata": {},
     "output_type": "execute_result"
    },
    {
     "data": {
      "image/png": "[encoded data removed]",
      "text/plain": [
       "<Figure size 1440x720 with 1 Axes>"
      ]
     },
     "metadata": {
      "needs_background": "light"
     },
     "output_type": "display_data"
    }
   ],
   "source": [
    "import seaborn as sns\n",
    "target = y_train.tolist()\n",
    "plt.figure(figsize=(20,10))\n",
    "for i in range(0,pca_df.shape[0]):\n",
    "    plt.scatter(data=pca_df, x=\"PC1\", y=\"PC2\", marker=\"+\", c=target[:784])\n",
    "     \n",
    "\n",
    "plt.xlabel(\"PC1\")\n",
    "plt.ylabel(\"PC2\")\n",
    "plt.title(\"Plan factoriel PC1/PC2\")\n",
    "       "
   ]
  },
  {
   "cell_type": "markdown",
   "metadata": {},
   "source": [
    "Il donne que des nuances de gris car les target sont définis  ainsi."
   ]
  },
  {
   "cell_type": "code",
   "execution_count": 18,
   "metadata": {},
   "outputs": [
    {
     "data": {
      "text/plain": [
       "PCA(n_components=0.8)"
      ]
     },
     "execution_count": 18,
     "metadata": {},
     "output_type": "execute_result"
    }
   ],
   "source": [
    "pca = PCA(.80)\n",
    "pca.fit(X_train)"
   ]
  },
  {
   "cell_type": "code",
   "execution_count": 19,
   "metadata": {},
   "outputs": [],
   "source": [
    "X_train = pca.transform(X_train)\n",
    "X_test = pca.transform(X_test)"
   ]
  },
  {
   "cell_type": "markdown",
   "metadata": {},
   "source": [
    "Maintenant que le prétraitement des données est terminé, nous passons à la construction du modèle avec Mini Batch K-Means."
   ]
  },
  {
   "cell_type": "markdown",
   "metadata": {},
   "source": [
    "## Construction du modèle Mini Batch K-Means"
   ]
  },
  {
   "cell_type": "markdown",
   "metadata": {},
   "source": [
    "Mini Batch K-Means fonctionne de manière similaire à l'algorithme K-Means. La différence est que dans le Mini Batch K-Means, l'étape la plus coûteuse en calcul est effectuée uniquement sur un échantillon aléatoire d'observations par opposition à toutes les observations. Cette approche peut réduire considérablement le temps nécessaire à l'algorithme pour trouver la convergence avec seulement un faible coût en qualité."
   ]
  },
  {
   "cell_type": "code",
   "execution_count": 38,
   "metadata": {},
   "outputs": [
    {
     "data": {
      "text/plain": [
       "MiniBatchKMeans(n_clusters=10)"
      ]
     },
     "execution_count": 38,
     "metadata": {},
     "output_type": "execute_result"
    }
   ],
   "source": [
    "from sklearn.cluster import MiniBatchKMeans\n",
    "import numpy as np\n",
    "total_clusters = len(np.unique(y_train))\n",
    "# Initialisation du modèle K-means\n",
    "kmeans = MiniBatchKMeans(n_clusters = total_clusters)\n",
    "kmeans.fit(X_train)"
   ]
  },
  {
   "cell_type": "code",
   "execution_count": 39,
   "metadata": {},
   "outputs": [
    {
     "data": {
      "text/plain": [
       "array([0, 8, 5, ..., 0, 3, 2])"
      ]
     },
     "execution_count": 39,
     "metadata": {},
     "output_type": "execute_result"
    }
   ],
   "source": [
    "# Labels\n",
    "kmeans.labels_"
   ]
  },
  {
   "cell_type": "code",
   "execution_count": 40,
   "metadata": {},
   "outputs": [
    {
     "data": {
      "text/plain": [
       "array([[ 2.26748811e-01, -8.62346310e-01,  2.73034962e-01,\n",
       "        -1.64671108e+00,  1.58587580e+00,  6.13850907e-01,\n",
       "        -1.98573963e-01, -6.65226303e-01, -6.62621188e-01,\n",
       "         5.72761718e-01,  1.80580829e-01, -2.81950147e-02,\n",
       "         5.54690477e-01, -1.16056161e-01, -8.36627501e-02,\n",
       "         1.66210424e-01,  1.29516618e-01,  2.74714581e-02,\n",
       "        -5.52081637e-02,  6.43003480e-02, -8.27401216e-02,\n",
       "        -2.11532177e-01, -1.71240763e-01,  6.41307823e-02,\n",
       "         7.01429742e-02,  3.11868761e-03,  8.43495422e-02,\n",
       "        -3.19216188e-03, -1.32169332e-01,  2.92352875e-03,\n",
       "        -7.93540971e-02, -5.68749542e-02, -4.95137349e-02,\n",
       "        -5.21955727e-03, -6.01966644e-02,  3.63404143e-02,\n",
       "        -1.36813510e-02, -1.00940554e-01,  4.13776891e-02,\n",
       "        -7.61176055e-02, -2.90092209e-03,  6.42926371e-03,\n",
       "        -1.52812747e-02,  7.05440921e-02],\n",
       "       [ 7.11388005e-01, -1.87183915e+00, -2.23094655e+00,\n",
       "        -7.61970618e-01,  4.09918249e-01, -6.00345285e-01,\n",
       "        -2.99928653e-01,  7.32750118e-01, -1.21436259e-01,\n",
       "        -7.50850134e-01,  1.72364965e-01, -1.09416585e-01,\n",
       "        -8.81517464e-02,  1.30766278e-01,  1.12733756e-01,\n",
       "         2.16775335e-02, -2.24493886e-01, -1.99510337e-02,\n",
       "         1.26470324e-01,  3.97065775e-02,  2.15062562e-02,\n",
       "         4.78777400e-02, -1.46604522e-01, -1.55193447e-01,\n",
       "        -1.79163638e-01, -4.68079867e-02, -3.16468613e-02,\n",
       "         4.27504095e-02,  1.22068120e-01,  2.07280298e-02,\n",
       "         5.25538700e-02, -2.73682599e-02, -2.24367137e-02,\n",
       "         3.02549123e-02,  5.33611360e-02, -3.50888993e-02,\n",
       "         7.26101548e-03,  7.34252507e-02, -1.63045998e-02,\n",
       "        -4.02662427e-03, -9.48823475e-03, -1.39298197e-02,\n",
       "         2.42236382e-02, -2.80435004e-02],\n",
       "       [-1.03163207e+00,  1.26255767e+00,  1.57064794e+00,\n",
       "        -6.33137567e-01, -2.59488668e-01,  5.45319607e-01,\n",
       "        -2.57699458e-01, -2.11333426e-01,  1.82137981e-01,\n",
       "        -1.05492298e+00,  9.26901378e-02, -7.55125875e-02,\n",
       "        -1.11012584e-01, -8.77228390e-02,  4.45658950e-01,\n",
       "         3.08849302e-01,  2.25743567e-02,  5.41306546e-02,\n",
       "         5.54736400e-02, -2.70706494e-01, -1.06724527e-02,\n",
       "         1.65147062e-02, -1.25622860e-01,  6.36380931e-02,\n",
       "        -2.61410604e-05,  5.64352090e-02, -5.11741494e-02,\n",
       "        -2.03084465e-02,  1.07537441e-01, -2.16877044e-02,\n",
       "         4.12840452e-03,  9.24029888e-02, -1.88045382e-02,\n",
       "         3.88137704e-02,  3.60926196e-02, -5.36404943e-02,\n",
       "         2.36230280e-02,  6.18697152e-03, -2.02539253e-02,\n",
       "         6.98315022e-03, -3.86909704e-02, -1.12307254e-02,\n",
       "        -4.19752612e-02,  1.09800097e-02],\n",
       "       [ 7.67996616e-01, -2.70867943e-01,  9.92203756e-01,\n",
       "         2.29992845e+00,  9.80727191e-01, -7.97747301e-01,\n",
       "         5.70084078e-01,  9.47296891e-02, -2.97998459e-01,\n",
       "        -8.94176745e-02, -3.48043271e-02, -7.05981244e-02,\n",
       "         5.89752154e-03,  2.00589136e-02,  2.41513663e-01,\n",
       "        -7.72208347e-02,  1.45665511e-01,  2.13637924e-01,\n",
       "         1.11969472e-01,  7.80538111e-02, -2.85875344e-02,\n",
       "        -6.83507770e-02,  6.87960730e-03,  4.84538854e-02,\n",
       "        -1.40373936e-01, -7.77163008e-02,  1.95952555e-02,\n",
       "        -1.56015287e-01, -7.11214931e-02, -3.89145716e-02,\n",
       "         7.22146613e-02, -1.12886071e-01,  2.53354420e-02,\n",
       "        -8.42594519e-02,  7.43636412e-02, -2.36144632e-02,\n",
       "         1.82204371e-02, -3.45228720e-02, -2.82507251e-03,\n",
       "        -1.27349073e-02,  3.16990945e-02,  1.59417409e-02,\n",
       "        -6.48894455e-02, -5.43491851e-02],\n",
       "       [-9.13812525e-01,  2.79112474e+00, -6.68569124e-01,\n",
       "        -1.21893363e+00, -8.16723997e-01,  3.25628185e-01,\n",
       "         1.31567295e+00,  1.01178145e+00, -4.14371787e-01,\n",
       "         1.04620894e-01, -3.48564837e-01, -9.53009804e-02,\n",
       "         1.99267355e-01, -2.96186347e-01, -4.40849089e-02,\n",
       "        -2.64284093e-01,  2.71092908e-01,  2.78520715e-02,\n",
       "         1.32910222e-01,  4.07027515e-01, -6.68111344e-02,\n",
       "         2.80924978e-01,  1.17188320e-01, -2.89618391e-01,\n",
       "        -8.29768891e-02, -1.51008873e-02,  2.81022782e-01,\n",
       "        -5.89529679e-02, -6.58034178e-02, -8.01660662e-02,\n",
       "         1.38592379e-01, -1.99705451e-01,  3.84469072e-02,\n",
       "        -1.19570614e-01,  4.99594723e-02,  5.81125928e-02,\n",
       "        -1.23114499e-01, -7.89020864e-04,  5.23244669e-02,\n",
       "        -1.39507843e-02,  1.60435917e-02,  1.00021785e-01,\n",
       "         4.14748361e-03, -1.92464107e-02],\n",
       "       [ 1.08395638e-01,  2.43301762e+00, -1.19752180e+00,\n",
       "         7.73746443e-01,  4.92802931e-01, -1.11358664e-02,\n",
       "        -1.04703149e+00,  1.89090796e-01,  4.22072562e-01,\n",
       "         6.21847069e-01,  6.93084011e-03,  1.52235003e-01,\n",
       "        -2.05752612e-01,  1.59385568e-01, -1.55183722e-01,\n",
       "        -4.75339399e-03, -1.04310909e-01, -2.27193325e-01,\n",
       "        -7.99909487e-02, -1.31255104e-01,  1.30313094e-01,\n",
       "        -3.95690009e-02,  2.07777896e-02,  1.50032952e-01,\n",
       "         1.52911322e-01, -7.36897089e-02, -7.32673204e-02,\n",
       "         5.22921814e-02,  3.37995432e-02,  6.61946932e-02,\n",
       "        -7.11863637e-02,  1.55233832e-01, -3.10006922e-02,\n",
       "         8.48311176e-02, -1.11528405e-01, -4.39852844e-03,\n",
       "         7.40975307e-02, -1.60875101e-02,  2.34542607e-02,\n",
       "        -3.00426314e-03, -7.84233952e-02, -5.92393521e-02,\n",
       "         2.81006142e-02,  1.42568556e-03],\n",
       "       [ 3.91002581e+00, -9.48338370e-01, -1.54969824e+00,\n",
       "         2.79724423e-01, -2.26588819e+00,  1.37174100e+00,\n",
       "         4.57201795e-01, -1.24539272e+00,  2.24750593e-01,\n",
       "         9.28709977e-02, -8.55630080e-02,  1.57318620e-01,\n",
       "        -1.97120082e-01, -6.31936785e-01,  5.76964729e-02,\n",
       "         7.38371281e-02,  4.47424884e-01, -1.94985074e-01,\n",
       "        -2.33692817e-01, -5.17456526e-03, -4.17804793e-02,\n",
       "         5.29252869e-02, -2.04341993e-01, -4.10949878e-02,\n",
       "         2.09973202e-01, -2.59729734e-02, -9.58320464e-02,\n",
       "        -1.80538926e-01,  2.21625583e-01,  2.25598089e-02,\n",
       "         4.05233967e-02,  1.17257480e-02, -2.00292351e-02,\n",
       "         4.91801961e-02, -3.52404059e-02, -2.24122307e-02,\n",
       "        -1.63105877e-02, -5.35985555e-02, -2.85447753e-02,\n",
       "         1.27002410e-01,  1.45820892e-01, -2.61781673e-03,\n",
       "        -5.17691509e-02, -2.78101690e-02],\n",
       "       [-2.64023033e+00, -2.20454151e+00,  9.20674815e-01,\n",
       "         5.81931274e-01, -8.14766854e-02,  1.52548131e+00,\n",
       "        -7.69851016e-01,  2.75546912e-02,  8.80256807e-01,\n",
       "         1.99854675e-01, -9.04113042e-01, -2.65838257e-01,\n",
       "         2.24626774e-01,  2.72531695e-01, -4.42546373e-01,\n",
       "         4.81560748e-02,  1.30413511e-01,  1.50196519e-01,\n",
       "        -2.80489333e-02,  2.29048752e-01,  1.08423178e-01,\n",
       "        -1.76276856e-02,  1.46263525e-01, -2.16239811e-01,\n",
       "         1.19302232e-01, -3.42871282e-02, -1.41781868e-01,\n",
       "         9.36024327e-02,  1.74889835e-02, -1.16511040e-01,\n",
       "         2.49255880e-02, -3.84311142e-02, -7.64840963e-02,\n",
       "        -9.91253999e-02, -1.00639150e-02,  1.07530049e-01,\n",
       "        -7.67829561e-03,  5.85974010e-02, -2.64802507e-03,\n",
       "         1.19505934e-02, -3.15475313e-02,  3.72885910e-02,\n",
       "         3.01485196e-02, -8.52444288e-02],\n",
       "       [ 3.93213688e+00, -5.76061390e-01,  2.19496895e+00,\n",
       "        -8.57939968e-01, -1.42658247e+00, -6.91874921e-01,\n",
       "        -1.05082176e-01,  4.88592951e-01,  3.33189445e-01,\n",
       "         3.56363551e-01, -2.59955919e-01, -3.06660441e-02,\n",
       "        -4.04210567e-01,  2.17746526e-01, -1.99279152e-01,\n",
       "        -1.74512221e-01, -3.13654041e-01,  1.98315131e-01,\n",
       "        -1.38857003e-01, -2.46610810e-02, -9.21609739e-03,\n",
       "        -1.31322504e-01,  2.72668531e-01,  6.75365605e-02,\n",
       "         1.30479871e-01,  2.32411434e-01,  1.32118891e-01,\n",
       "         2.37701483e-01, -1.16914073e-01, -1.25824596e-02,\n",
       "        -1.27332967e-01, -4.15047296e-02,  1.10864199e-01,\n",
       "         6.83517284e-02, -4.25303823e-02,  5.64923719e-02,\n",
       "        -8.77259702e-02,  9.02102117e-02,  4.04836060e-02,\n",
       "         7.42442997e-03, -2.12163781e-04, -5.81263210e-02,\n",
       "         4.05045509e-02,  2.19573860e-02],\n",
       "       [-2.99287511e+00, -9.75962651e-01, -2.34724933e-01,\n",
       "         1.84508946e-01, -1.10315184e+00, -9.25008100e-01,\n",
       "         8.55345968e-01, -6.21100870e-01, -1.44320795e-01,\n",
       "         3.93297415e-01,  7.20681453e-01,  5.16647618e-01,\n",
       "        -4.53729656e-02,  3.39348947e-02, -3.59568995e-01,\n",
       "        -1.89594748e-01, -3.25017654e-01, -2.41045111e-01,\n",
       "        -1.37855392e-01, -2.46140680e-01, -5.52058675e-02,\n",
       "         6.80157903e-02,  2.26297950e-01,  1.29026030e-01,\n",
       "        -8.52767513e-02,  8.47781605e-02, -1.57502723e-01,\n",
       "         3.36921369e-02, -6.01540371e-02,  4.17298091e-02,\n",
       "        -6.63698395e-02,  6.26893021e-02,  2.26006315e-02,\n",
       "         2.76474416e-02, -9.02413140e-02, -4.31190583e-02,\n",
       "         1.02247538e-02, -2.65043469e-02, -2.99435542e-02,\n",
       "         2.37269132e-02,  6.32447481e-02, -6.85245361e-03,\n",
       "         3.30729259e-02,  5.59056600e-02]])"
      ]
     },
     "execution_count": 40,
     "metadata": {},
     "output_type": "execute_result"
    }
   ],
   "source": [
    "# centroides\n",
    "kmeans.cluster_centers_"
   ]
  },
  {
   "cell_type": "markdown",
   "metadata": {},
   "source": [
    "Les images sont classées en groupes en fonction de la similitude des valeurs de pixels. Chaque image se voit attribuer une valeur d'étiquette de cluster donnée par kmeans.labels_. Mais kmeans.labels_ ne désigne que le cluster auquel appartient l'image. Il ne désigne pas le nombre affiché dans l'image.\n",
    "\n",
    "On va créer une fonction qui associe  le label le plus probable à chaque cluster dans le modèle KMeans \n",
    "qui renvoie un  dictionnaire des clusters assignés à chaque label."
   ]
  },
  {
   "cell_type": "code",
   "execution_count": 41,
   "metadata": {},
   "outputs": [],
   "source": [
    "def retrieve_info(cluster_labels,y_train):\n",
    "    reference_labels = {}\n",
    "    for i in range(len(np.unique(kmeans.labels_))):\n",
    "        index = np.where(cluster_labels == i,1,0)\n",
    "        num = np.bincount(y_train[index==1]).argmax()\n",
    "        reference_labels[i] = num\n",
    "    return reference_labels"
   ]
  },
  {
   "cell_type": "code",
   "execution_count": 42,
   "metadata": {},
   "outputs": [],
   "source": [
    "reference_labels = retrieve_info(kmeans.labels_,y_train)"
   ]
  },
  {
   "cell_type": "code",
   "execution_count": 43,
   "metadata": {},
   "outputs": [
    {
     "name": "stdout",
     "output_type": "stream",
     "text": [
      "{0: 8, 1: 3, 2: 4, 3: 6, 4: 7, 5: 4, 6: 0, 7: 1, 8: 0, 9: 1}\n"
     ]
    }
   ],
   "source": [
    "print(reference_labels)"
   ]
  },
  {
   "cell_type": "markdown",
   "metadata": {},
   "source": [
    "Regardons reference_label: c'est à dire au cluster 0  on a le groupe d'image 0 , au cluster 1 on a le groupe d'image 9, au cluster 2 on a le groupe d'image 1 etc...). \n",
    "\n",
    "Avec la fonction 'retrieve_info' nous allons imprimer le 'y_pred' prédit et la comparer l'étiquette réelle pour les 20 premiers exemples"
   ]
  },
  {
   "cell_type": "code",
   "execution_count": 44,
   "metadata": {},
   "outputs": [],
   "source": [
    "y_pred = np.random.rand(len(kmeans.labels_))\n",
    "for i in range(len(kmeans.labels_)):\n",
    "    y_pred[i] = reference_labels[kmeans.labels_[i]]"
   ]
  },
  {
   "cell_type": "code",
   "execution_count": 45,
   "metadata": {},
   "outputs": [
    {
     "name": "stdout",
     "output_type": "stream",
     "text": [
      "Valeurs prédites:\n",
      "[8 0 4 1 4 4 1 8 1 4 3 1 3 6 1 4 6 8 6 4]\n",
      "============================================================\n",
      "Valeurs réelles:\n",
      "[5 0 4 1 9 2 1 3 1 4 3 5 3 6 1 7 2 8 6 9]\n"
     ]
    }
   ],
   "source": [
    "# Comparaison des valeurs prédites et des valeurs réelles\n",
    "print(\"Valeurs prédites:\")\n",
    "print(y_pred[:20].astype('int'))\n",
    "print(\"============================================================\")\n",
    "print(\"Valeurs réelles:\")\n",
    "print(y_train[:20])"
   ]
  },
  {
   "cell_type": "markdown",
   "metadata": {},
   "source": [
    "## Accuracy score"
   ]
  },
  {
   "cell_type": "code",
   "execution_count": 46,
   "metadata": {},
   "outputs": [
    {
     "name": "stdout",
     "output_type": "stream",
     "text": [
      "L'accuracy score du train set est de: 0.5633\n"
     ]
    }
   ],
   "source": [
    "# accuracy score\n",
    "from sklearn.metrics import accuracy_score\n",
    "print(f'L\\'accuracy score du train set est de: {accuracy_score(y_pred,y_train)}')"
   ]
  },
  {
   "cell_type": "code",
   "execution_count": 47,
   "metadata": {},
   "outputs": [],
   "source": [
    "# Notification de la fin du premier algo \n",
    "notify.send(f'Le premier algo est terminer Malika! L\\'accuracy est de {accuracy_score(y_pred,y_train)}')"
   ]
  },
  {
   "cell_type": "code",
   "execution_count": 48,
   "metadata": {},
   "outputs": [
    {
     "data": {
      "text/plain": [
       "Text(0.5, 257.44, 'Predicted label')"
      ]
     },
     "execution_count": 48,
     "metadata": {},
     "output_type": "execute_result"
    },
    {
     "data": {
      "image/png": "[encoded data removed]",
      "text/plain": [
       "<Figure size 432x288 with 2 Axes>"
      ]
     },
     "metadata": {
      "needs_background": "light"
     },
     "output_type": "display_data"
    }
   ],
   "source": [
    "# matrice de confusion\n",
    "from sklearn.metrics import confusion_matrix\n",
    "import seaborn as sns\n",
    "import pandas as pd\n",
    "conf_matrix = confusion_matrix(y_train, y_pred)\n",
    "\n",
    "# plottage \n",
    "\n",
    "class_names=[0,1, 2, 3, 4, 5, 6, 7, 8, 9] # name  of classes\n",
    "fig, ax = plt.subplots()\n",
    "tick_marks = np.arange(len(class_names))\n",
    "plt.xticks(tick_marks, class_names)\n",
    "plt.yticks(tick_marks, class_names)\n",
    "\n",
    "sns.heatmap(pd.DataFrame(conf_matrix), annot=True, cmap=\"YlGnBu\" ,fmt='g')\n",
    "ax.xaxis.set_label_position(\"top\")\n",
    "plt.tight_layout()\n",
    "plt.title('Confusion matrix', y=1.1)\n",
    "plt.ylabel('Actual label')\n",
    "plt.xlabel('Predicted label')"
   ]
  },
  {
   "cell_type": "markdown",
   "metadata": {},
   "source": [
    "Les groupes sont mal classer, il fait beaucoup de confusion pour les autres nombres. Les groupe 0, 5 et 9 sont vide."
   ]
  },
  {
   "cell_type": "markdown",
   "metadata": {},
   "source": [
    "## Optimisation de l'algorithme"
   ]
  },
  {
   "cell_type": "code",
   "execution_count": 49,
   "metadata": {},
   "outputs": [],
   "source": [
    "def calculate_metrics(model,output):\n",
    "    print(f'Le nombre de cluster est de {model.n_clusters}')\n",
    "    print(f'L\\'inertie est de: {model.inertia_}')\n",
    "    print(f'L\\'homogeneîté est de: {metrics.homogeneity_score(output,model.labels_)}')"
   ]
  },
  {
   "cell_type": "code",
   "execution_count": 50,
   "metadata": {},
   "outputs": [
    {
     "name": "stdout",
     "output_type": "stream",
     "text": [
      "Le nombre de cluster est de 256\n",
      "L'inertie est de: 942418.0089218764\n",
      "L'homogeneîté est de: 0.8460916220402739\n",
      "L'accuracy est de: 0.9002166666666667\n"
     ]
    }
   ],
   "source": [
    "from sklearn import metrics\n",
    "cluster_number = [10,16,36,64,144,256]\n",
    "for i in cluster_number:\n",
    "    total_clusters = len(np.unique(y_train))\n",
    "\n",
    "kmeans = MiniBatchKMeans(n_clusters = i)\n",
    "kmeans.fit(X_train) \n",
    "calculate_metrics(kmeans,y_train)\n",
    "# Calcule des  reference_labels\n",
    "reference_labels = retrieve_info(kmeans.labels_,y_train)\n",
    "# y_pred la prediction des label\n",
    "y_pred = np.random.rand(len(kmeans.labels_))\n",
    "for i in range(len(kmeans.labels_)):\n",
    "    y_pred[i] = reference_labels[kmeans.labels_[i]]\n",
    "    \n",
    "print(f'L\\'accuracy est de: {accuracy_score(y_pred,y_train)}')\n"
   ]
  },
  {
   "cell_type": "markdown",
   "metadata": {},
   "source": [
    "J'ai fait des testes allant jusqu'a 640  cluster, j'obtiens 91% d'accuracy y a pas énormement de différence pour un si grand nombre de cluster je pense pas que se soit judicieux. Le fait d'avoir 256 clusters pour 10 nombre vient du faite que se soit écrit à la main et qu'il y'ai plusieurs maniéres d'écrire une nombre. Chacun son écriture !!!!\n",
    "\n",
    "**Résultat obtenu pour 640 clusters**:\n",
    "\n",
    "- Le nombre de cluster est de 640\n",
    "- L'inertie est de: 1352653.5\n",
    "- L'homogeneîté est de: 0.8793984040204451\n",
    "- L'accuracy est de: 0.9177833333333333\n",
    "\n",
    "**Résultat obtenu pour 1000 clusters**:\n",
    "\n",
    "- Le nombre de cluster est de 1100\n",
    "- L'inertie est de: 1257776.286679475\n",
    "- L'homogeneîté est de: 0.9034006597470268\n",
    "- L'accuracy est de: 0.9352166666666667\n",
    "\n",
    "**Résultat obtenu pour 2000 clusters**:\n",
    "\n",
    "- Le nombre de cluster est de 2000\n",
    "- L'inertie est de: 1157934.1027682698\n",
    "- L'homogeneîté est de: 0.9258553732741193\n",
    "- L'accuracy est de: 0.9483833333333334\n",
    "\n",
    "La précision est de 89% pour «nombre de clusters» = 256. Par conséquent, nous exécutons le modèle sur l'ensemble de test pour le nombre de clusters = 256."
   ]
  },
  {
   "cell_type": "code",
   "execution_count": 51,
   "metadata": {},
   "outputs": [
    {
     "name": "stdout",
     "output_type": "stream",
     "text": [
      "Le nombre de cluster est de 256\n",
      "L'inertie est de: 943023.1688640395\n",
      "L'homogeneîté est de: 0.84015794939165\n",
      "L'accuracy est de: 0.8911666666666667\n"
     ]
    }
   ],
   "source": [
    "# Amélioration du modéle \n",
    "kmeans = MiniBatchKMeans(n_clusters = 256)\n",
    "kmeans.fit(X_train)\n",
    "# Calcule des metriques\n",
    "calculate_metrics(kmeans,y_train)\n",
    "# Calcule des reference_labels\n",
    "reference_labels = retrieve_info(kmeans.labels_,y_train)\n",
    "# y_pred nos predictions\n",
    "y_pred = np.random.rand(len(kmeans.labels_))\n",
    "for i in range(len(kmeans.labels_)):\n",
    "    y_pred[i] = reference_labels[kmeans.labels_[i]]\n",
    "    \n",
    "    \n",
    "print(f'L\\'accuracy est de: {accuracy_score(y_pred,y_train)}')"
   ]
  },
  {
   "cell_type": "code",
   "execution_count": 77,
   "metadata": {},
   "outputs": [
    {
     "data": {
      "text/plain": [
       "Text(0, 0.5, 'Cout du model (Inertie)')"
      ]
     },
     "execution_count": 77,
     "metadata": {},
     "output_type": "execute_result"
    },
    {
     "data": {
      "image/png": "[encoded data removed]",
      "text/plain": [
       "<Figure size 432x288 with 1 Axes>"
      ]
     },
     "metadata": {
      "needs_background": "light"
     },
     "output_type": "display_data"
    }
   ],
   "source": [
    "# coût de nos différents modéle pour une valeur de k allant de 1 à 300 par exemple\n",
    "inertie = [] \n",
    "# on définit la range qu'on veut tester ici de 1 à 300\n",
    "k_range = range(1,300) \n",
    "for k in k_range:\n",
    "# on va entrainer le modele sur nos données X\n",
    "    model = MiniBatchKMeans(n_clusters = k).fit(X_train) \n",
    "# on ajoute à notre liste inertie\n",
    "    inertie.append(model.inertia_)\n",
    "    \n",
    "# plot de la zone de coude    \n",
    "plt.plot(k_range, inertie)\n",
    "plt.xlabel('nb de clusters')\n",
    "plt.ylabel('Cout du model (Inertie)')  "
   ]
  },
  {
   "cell_type": "markdown",
   "metadata": {},
   "source": [
    "La courbe du coude ne montre  pas vraiment de cassure."
   ]
  },
  {
   "cell_type": "code",
   "execution_count": 52,
   "metadata": {},
   "outputs": [
    {
     "data": {
      "text/plain": [
       "Text(0.5, 257.44, 'Predicted label')"
      ]
     },
     "execution_count": 52,
     "metadata": {},
     "output_type": "execute_result"
    },
    {
     "data": {
      "image/png": "[encoded data removed]",
      "text/plain": [
       "<Figure size 432x288 with 2 Axes>"
      ]
     },
     "metadata": {
      "needs_background": "light"
     },
     "output_type": "display_data"
    }
   ],
   "source": [
    "conf_matrix2 = confusion_matrix(y_train, y_pred)\n",
    "\n",
    "# plottage \n",
    "\n",
    "class_names=[0,1, 2, 3, 4, 5, 6, 7, 8, 9] # name  of classes\n",
    "fig, ax = plt.subplots()\n",
    "tick_marks = np.arange(len(class_names))\n",
    "plt.xticks(tick_marks, class_names)\n",
    "plt.yticks(tick_marks, class_names)\n",
    "\n",
    "sns.heatmap(pd.DataFrame(conf_matrix2), annot=True, cmap=\"YlGnBu\" ,fmt='g')\n",
    "ax.xaxis.set_label_position(\"top\")\n",
    "plt.tight_layout()\n",
    "plt.title('Confusion matrix train set ', y=1.1)\n",
    "plt.ylabel('Actual label')\n",
    "plt.xlabel('Predicted label')"
   ]
  },
  {
   "cell_type": "code",
   "execution_count": 53,
   "metadata": {},
   "outputs": [
    {
     "name": "stdout",
     "output_type": "stream",
     "text": [
      "Le nombre de cluster est de 256\n",
      "L'inertie est de: 151629.92874396974\n",
      "L'homogeneîté est de: 0.8614354218367187\n",
      "L'accuracy est de: 0.8968\n"
     ]
    }
   ],
   "source": [
    "# Testdu modèle sur le Test set\n",
    "kmeans = MiniBatchKMeans(n_clusters = 256)\n",
    "kmeans.fit(X_test)\n",
    "# Calcule des metriques\n",
    "calculate_metrics(kmeans,y_test)\n",
    "# Calcule des reference_labels\n",
    "reference_labels = retrieve_info(kmeans.labels_,y_test)\n",
    "# y_pred nos predictions\n",
    "y_pred = np.random.rand(len(kmeans.labels_))\n",
    "for i in range(len(kmeans.labels_)):\n",
    "    y_pred[i] = reference_labels[kmeans.labels_[i]]\n",
    "    \n",
    "    \n",
    "print(f'L\\'accuracy est de: {accuracy_score(y_pred,y_test)}')"
   ]
  },
  {
   "cell_type": "code",
   "execution_count": 29,
   "metadata": {},
   "outputs": [],
   "source": [
    "# Notification de la fin du second algo \n",
    "notify.send(f'Le second algo est terminer Malika! L\\'accuracy est de {accuracy_score(y_pred,y_test)}')"
   ]
  },
  {
   "cell_type": "code",
   "execution_count": 54,
   "metadata": {},
   "outputs": [
    {
     "data": {
      "text/plain": [
       "Text(0.5, 257.44, 'Predicted label')"
      ]
     },
     "execution_count": 54,
     "metadata": {},
     "output_type": "execute_result"
    },
    {
     "data": {
      "image/png": "[encoded data removed]",
      "text/plain": [
       "<Figure size 432x288 with 2 Axes>"
      ]
     },
     "metadata": {
      "needs_background": "light"
     },
     "output_type": "display_data"
    }
   ],
   "source": [
    "conf_matrix3 = confusion_matrix(y_test, y_pred)\n",
    "\n",
    "# plottage \n",
    "\n",
    "class_names=[0,1, 2, 3, 4, 5, 6, 7, 8, 9] # name  of classes\n",
    "fig, ax = plt.subplots()\n",
    "tick_marks = np.arange(len(class_names))\n",
    "plt.xticks(tick_marks, class_names)\n",
    "plt.yticks(tick_marks, class_names)\n",
    "\n",
    "sns.heatmap(pd.DataFrame(conf_matrix3), annot=True, cmap=\"YlGnBu\" ,fmt='g')\n",
    "ax.xaxis.set_label_position(\"top\")\n",
    "plt.tight_layout()\n",
    "plt.title('Confusion matrix test set', y=1.1)\n",
    "plt.ylabel('Actual label')\n",
    "plt.xlabel('Predicted label')"
   ]
  },
  {
   "cell_type": "markdown",
   "metadata": {},
   "source": [
    "On voit une nette amélioration. Il y a encore des erreurs de classification mais beaucoup moins. Il faudrait pouvoir améliorer les prédictions."
   ]
  },
  {
   "cell_type": "markdown",
   "metadata": {},
   "source": [
    "## Nouvelles prédictions"
   ]
  },
  {
   "cell_type": "code",
   "execution_count": 55,
   "metadata": {},
   "outputs": [],
   "source": [
    "# RGB image is converted to Monochrome image\n",
    "from skimage import color\n",
    "from skimage import io\n",
    "image1 = color.rgb2gray(io.imread(\"Capture d’écran (1143).png\"))"
   ]
  },
  {
   "cell_type": "code",
   "execution_count": 56,
   "metadata": {
    "scrolled": false
   },
   "outputs": [
    {
     "data": {
      "image/png": "[encoded data removed]",
      "text/plain": [
       "<Figure size 432x288 with 1 Axes>"
      ]
     },
     "metadata": {
      "needs_background": "light"
     },
     "output_type": "display_data"
    }
   ],
   "source": [
    "plt.imshow(image1)\n",
    "image1.shape\n",
    "from skimage.transform import resize\n",
    "size = (28, 28)\n",
    "image1_resize = resize(image1,size,anti_aliasing=True)"
   ]
  },
  {
   "cell_type": "code",
   "execution_count": 57,
   "metadata": {},
   "outputs": [
    {
     "data": {
      "text/plain": [
       "<matplotlib.image.AxesImage at 0x282e0b2bdc8>"
      ]
     },
     "execution_count": 57,
     "metadata": {},
     "output_type": "execute_result"
    },
    {
     "data": {
      "image/png": "[encoded data removed]",
      "text/plain": [
       "<Figure size 432x288 with 1 Axes>"
      ]
     },
     "metadata": {
      "needs_background": "light"
     },
     "output_type": "display_data"
    }
   ],
   "source": [
    "plt.imshow(image1_resize)"
   ]
  },
  {
   "cell_type": "code",
   "execution_count": 58,
   "metadata": {},
   "outputs": [
    {
     "data": {
      "text/plain": [
       "(28, 28)"
      ]
     },
     "execution_count": 58,
     "metadata": {},
     "output_type": "execute_result"
    }
   ],
   "source": [
    "image1_resize.shape"
   ]
  },
  {
   "cell_type": "code",
   "execution_count": 59,
   "metadata": {},
   "outputs": [],
   "source": [
    "image1_resize = image1_resize.reshape(1, 28*28)\n",
    "image1_resize.shape\n",
    "image1_resize = pca.transform(image1_resize)"
   ]
  },
  {
   "cell_type": "code",
   "execution_count": 60,
   "metadata": {},
   "outputs": [],
   "source": [
    "predicted_cluster = kmeans.predict(image1_resize)"
   ]
  },
  {
   "cell_type": "code",
   "execution_count": 61,
   "metadata": {},
   "outputs": [
    {
     "name": "stderr",
     "output_type": "stream",
     "text": [
      "C:\\Users\\ouizb\\anaconda3\\lib\\site-packages\\ipykernel_launcher.py:1: FutureWarning: Using a non-tuple sequence for multidimensional indexing is deprecated; use `arr[tuple(seq)]` instead of `arr[seq]`. In the future this will be interpreted as an array index, `arr[np.array(seq)]`, which will result either in an error or a different result.\n",
      "  \"\"\"Entry point for launching an IPython kernel.\n"
     ]
    },
    {
     "data": {
      "text/plain": [
       "array([8.])"
      ]
     },
     "execution_count": 61,
     "metadata": {},
     "output_type": "execute_result"
    }
   ],
   "source": [
    "y_pred[[predicted_cluster]]"
   ]
  },
  {
   "cell_type": "code",
   "execution_count": 62,
   "metadata": {},
   "outputs": [],
   "source": [
    "# Notification de la  nouvelle prédiction \n",
    "notify.send(\"Il a fini la nouvelle prédiction 1 Malika!\")"
   ]
  },
  {
   "cell_type": "markdown",
   "metadata": {},
   "source": [
    "**nouvelle prédiction**"
   ]
  },
  {
   "cell_type": "code",
   "execution_count": 63,
   "metadata": {},
   "outputs": [
    {
     "data": {
      "image/png": "[encoded data removed]",
      "text/plain": [
       "<Figure size 432x288 with 1 Axes>"
      ]
     },
     "metadata": {
      "needs_background": "light"
     },
     "output_type": "display_data"
    }
   ],
   "source": [
    "image2 = color.rgb2gray(io.imread(\"nb2.png\"))\n",
    "plt.imshow(image2)\n",
    "image2_resize = resize(image2,size,anti_aliasing=True)"
   ]
  },
  {
   "cell_type": "code",
   "execution_count": 64,
   "metadata": {},
   "outputs": [
    {
     "data": {
      "text/plain": [
       "<matplotlib.image.AxesImage at 0x282e3a35dc8>"
      ]
     },
     "execution_count": 64,
     "metadata": {},
     "output_type": "execute_result"
    },
    {
     "data": {
      "image/png": "[encoded data removed]",
      "text/plain": [
       "<Figure size 432x288 with 1 Axes>"
      ]
     },
     "metadata": {
      "needs_background": "light"
     },
     "output_type": "display_data"
    }
   ],
   "source": [
    "plt.imshow(image2_resize)"
   ]
  },
  {
   "cell_type": "code",
   "execution_count": 65,
   "metadata": {},
   "outputs": [
    {
     "data": {
      "text/plain": [
       "(28, 28)"
      ]
     },
     "execution_count": 65,
     "metadata": {},
     "output_type": "execute_result"
    }
   ],
   "source": [
    "image2_resize.shape"
   ]
  },
  {
   "cell_type": "code",
   "execution_count": 66,
   "metadata": {},
   "outputs": [],
   "source": [
    "image2_resize = image2_resize.reshape(1, 28*28)\n",
    "image2_resize.shape\n",
    "image2_resize = pca.transform(image2_resize)"
   ]
  },
  {
   "cell_type": "code",
   "execution_count": 67,
   "metadata": {},
   "outputs": [
    {
     "name": "stderr",
     "output_type": "stream",
     "text": [
      "C:\\Users\\ouizb\\anaconda3\\lib\\site-packages\\ipykernel_launcher.py:2: FutureWarning: Using a non-tuple sequence for multidimensional indexing is deprecated; use `arr[tuple(seq)]` instead of `arr[seq]`. In the future this will be interpreted as an array index, `arr[np.array(seq)]`, which will result either in an error or a different result.\n",
      "  \n"
     ]
    },
    {
     "data": {
      "text/plain": [
       "array([8.])"
      ]
     },
     "execution_count": 67,
     "metadata": {},
     "output_type": "execute_result"
    }
   ],
   "source": [
    "predicted_cluster2 = kmeans.predict(image2_resize)\n",
    "y_pred[[predicted_cluster2]]\n"
   ]
  },
  {
   "cell_type": "code",
   "execution_count": 68,
   "metadata": {},
   "outputs": [],
   "source": [
    "# Notification de la  nouvelle prédiction \n",
    "notify.send(\"Il a fini la nouvelle prédiction 2 Malika!\")"
   ]
  },
  {
   "cell_type": "markdown",
   "metadata": {},
   "source": [
    "**nouvelle prédiction**"
   ]
  },
  {
   "cell_type": "code",
   "execution_count": 72,
   "metadata": {},
   "outputs": [
    {
     "data": {
      "image/png": "[encoded data removed]",
      "text/plain": [
       "<Figure size 432x288 with 1 Axes>"
      ]
     },
     "metadata": {
      "needs_background": "light"
     },
     "output_type": "display_data"
    }
   ],
   "source": [
    "image3 = color.rgb2gray(io.imread(\"nb9.png\"))\n",
    "plt.imshow(image3)\n",
    "image3_resize = resize(image3,size,anti_aliasing=True)"
   ]
  },
  {
   "cell_type": "code",
   "execution_count": 73,
   "metadata": {},
   "outputs": [
    {
     "name": "stderr",
     "output_type": "stream",
     "text": [
      "C:\\Users\\ouizb\\anaconda3\\lib\\site-packages\\ipykernel_launcher.py:4: FutureWarning: Using a non-tuple sequence for multidimensional indexing is deprecated; use `arr[tuple(seq)]` instead of `arr[seq]`. In the future this will be interpreted as an array index, `arr[np.array(seq)]`, which will result either in an error or a different result.\n",
      "  after removing the cwd from sys.path.\n"
     ]
    },
    {
     "data": {
      "text/plain": [
       "array([8.])"
      ]
     },
     "execution_count": 73,
     "metadata": {},
     "output_type": "execute_result"
    }
   ],
   "source": [
    "image3_resize = image3_resize.reshape(1, 28*28)\n",
    "image3_resize = pca.transform(image3_resize)\n",
    "predicted_cluster3 = kmeans.predict(image3_resize)\n",
    "y_pred[[predicted_cluster3]]\n"
   ]
  },
  {
   "cell_type": "markdown",
   "metadata": {},
   "source": [
    "**nouvelle prédiction**"
   ]
  },
  {
   "cell_type": "code",
   "execution_count": 74,
   "metadata": {},
   "outputs": [
    {
     "data": {
      "text/plain": [
       "<matplotlib.image.AxesImage at 0x282e47bc148>"
      ]
     },
     "execution_count": 74,
     "metadata": {},
     "output_type": "execute_result"
    },
    {
     "data": {
      "image/png": "[encoded data removed]",
      "text/plain": [
       "<Figure size 432x288 with 1 Axes>"
      ]
     },
     "metadata": {
      "needs_background": "light"
     },
     "output_type": "display_data"
    }
   ],
   "source": [
    "image4 = color.rgb2gray(io.imread(\"nombre3.png\"))\n",
    "plt.imshow(image4)\n"
   ]
  },
  {
   "cell_type": "code",
   "execution_count": 75,
   "metadata": {},
   "outputs": [
    {
     "name": "stderr",
     "output_type": "stream",
     "text": [
      "C:\\Users\\ouizb\\anaconda3\\lib\\site-packages\\ipykernel_launcher.py:6: FutureWarning: Using a non-tuple sequence for multidimensional indexing is deprecated; use `arr[tuple(seq)]` instead of `arr[seq]`. In the future this will be interpreted as an array index, `arr[np.array(seq)]`, which will result either in an error or a different result.\n",
      "  \n"
     ]
    },
    {
     "data": {
      "text/plain": [
       "array([8.])"
      ]
     },
     "execution_count": 75,
     "metadata": {},
     "output_type": "execute_result"
    },
    {
     "data": {
      "image/png": "[encoded data removed]",
      "text/plain": [
       "<Figure size 432x288 with 1 Axes>"
      ]
     },
     "metadata": {
      "needs_background": "light"
     },
     "output_type": "display_data"
    }
   ],
   "source": [
    "image4_resize = resize(image4,size,anti_aliasing=True)\n",
    "plt.imshow(image4_resize)\n",
    "image4_resize = image4_resize.reshape(1, 28*28)\n",
    "image4_resize = pca.transform(image4_resize)\n",
    "predicted_cluster4 = kmeans.predict(image4_resize)\n",
    "y_pred[[predicted_cluster4]]"
   ]
  },
  {
   "cell_type": "markdown",
   "metadata": {},
   "source": [
    "**nouvelle prédiction**"
   ]
  },
  {
   "cell_type": "code",
   "execution_count": 76,
   "metadata": {},
   "outputs": [
    {
     "name": "stderr",
     "output_type": "stream",
     "text": [
      "C:\\Users\\ouizb\\anaconda3\\lib\\site-packages\\ipykernel_launcher.py:8: FutureWarning: Using a non-tuple sequence for multidimensional indexing is deprecated; use `arr[tuple(seq)]` instead of `arr[seq]`. In the future this will be interpreted as an array index, `arr[np.array(seq)]`, which will result either in an error or a different result.\n",
      "  \n"
     ]
    },
    {
     "data": {
      "text/plain": [
       "array([8.])"
      ]
     },
     "execution_count": 76,
     "metadata": {},
     "output_type": "execute_result"
    },
    {
     "data": {
      "image/png": "[encoded data removed]",
      "text/plain": [
       "<Figure size 432x288 with 1 Axes>"
      ]
     },
     "metadata": {
      "needs_background": "light"
     },
     "output_type": "display_data"
    }
   ],
   "source": [
    "image5 = color.rgb2gray(io.imread(\"nombre4.png\"))\n",
    "plt.imshow(image5)\n",
    "image5_resize = resize(image5,size,anti_aliasing=True)\n",
    "plt.imshow(image5_resize)\n",
    "image5_resize = image5_resize.reshape(1, 28*28)\n",
    "image5_resize = pca.transform(image5_resize)\n",
    "predicted_cluster5 = kmeans.predict(image5_resize)\n",
    "y_pred[[predicted_cluster5]]"
   ]
  },
  {
   "cell_type": "code",
   "execution_count": 56,
   "metadata": {},
   "outputs": [],
   "source": [
    "# Notification de la  nouvelle prédiction \n",
    "notify.send(\"Il a fini les nouvelles prédictions Malika!\")"
   ]
  },
  {
   "cell_type": "markdown",
   "metadata": {},
   "source": [
    "Il a su le reconnaître c'est déjà! Mon modèle doit encore être amelioré. Il a encore du mal a bien classer les nombres. Je précise que ceux sont des images que j'ai moi même créer sur microsoft paint 2D donc les nombres sont manuscrit est-ce que ça joue ? Dans la mesure où il n'a pas était entraîner sur mon écriture faudrait creuser la question."
   ]
  },
  {
   "cell_type": "markdown",
   "metadata": {},
   "source": [
    "https://medium.com/datadriveninvestor/k-means-clustering-for-imagery-analysis-56c9976f16b6\n",
    "\n",
    "https://medium.com/@joel_34096/k-means-clustering-for-image-classification-a648f28bdc47#:~:text=Yes!,Image%20Classification%20of%20MNIST%20dataset.&text=K%2Dmeans%20clustering%20is%20an,cluster%20with%20the%20nearest%20centroid.\n",
    "\n",
    "https://notify.run/\n",
    "\n",
    "https://python.doctor/page-python-envoyer-mail-smtp\n",
    "\n",
    "https://towardsdatascience.com/automatic-notification-to-email-with-python-810fd357d89c\n"
   ]
  },
  {
   "cell_type": "code",
   "execution_count": null,
   "metadata": {},
   "outputs": [],
   "source": []
  }
 ],
 "metadata": {
  "kernelspec": {
   "display_name": "Python 3",
   "language": "python",
   "name": "python3"
  },
  "language_info": {
   "codemirror_mode": {
    "name": "ipython",
    "version": 3
   },
   "file_extension": ".py",
   "mimetype": "text/x-python",
   "name": "python",
   "nbconvert_exporter": "python",
   "pygments_lexer": "ipython3",
   "version": "3.7.6"
  }
 },
 "nbformat": 4,
 "nbformat_minor": 4
}
